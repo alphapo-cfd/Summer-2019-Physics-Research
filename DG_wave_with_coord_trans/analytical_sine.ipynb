{
 "cells": [
  {
   "cell_type": "code",
   "execution_count": 8,
   "metadata": {},
   "outputs": [],
   "source": [
    "import numpy as np\n",
    "from matplotlib import pyplot as plt\n",
    "from ReferenceElement import *\n",
    "import os\n",
    "import imageio\n",
    "from dg_wave_with_coord_trans_new import *\n",
    "%matplotlib inline"
   ]
  },
  {
   "cell_type": "code",
   "execution_count": 18,
   "metadata": {},
   "outputs": [],
   "source": [
    "x_p_0 = 0.\n",
    "speed_limit = 0.5\n",
    "def x_p(t):\n",
    "    return x_p_0 + speed_limit*np.sin(t)\n",
    "def y_to_x(y,t):\n",
    "    return y + speed_limit*np.sin(t)\n",
    "def x_p_dot(t):\n",
    "    return speed_limit*np.cos(t)\n",
    "def x_p_dot_dot(t):\n",
    "    return -speed_limit*np.sin(t)\n",
    "def analytical_u(x,x_p,t):\n",
    "#     return np.cos(x+x_p(t)-t)+1/2*np.sin(x+x_p(t)+t)\n",
    "    return np.sin(x+x_p(t)-t)\n",
    "def analytical_p(x,xp,t):\n",
    "#     return np.sin(x-t)+1/2*np.cos(x+t)\n",
    "    return -np.cos(x-t)\n",
    "def analytical_q(x,xp,t):\n",
    "#     return -np.sin(x-t) +1/2*np.cos(x+t)\n",
    "    return np.cos(x-t)"
   ]
  },
  {
   "cell_type": "code",
   "execution_count": 19,
   "metadata": {},
   "outputs": [],
   "source": [
    "t_int = np.linspace(0,2*np.pi,200)\n",
    "x = np.linspace(-2*np.pi,2*np.pi,201)"
   ]
  },
  {
   "cell_type": "code",
   "execution_count": 20,
   "metadata": {},
   "outputs": [
    {
     "data": {
      "image/png": "[encoded data removed]",
      "text/plain": [
       "<Figure size 432x288 with 1 Axes>"
      ]
     },
     "metadata": {
      "needs_background": "light"
     },
     "output_type": "display_data"
    }
   ],
   "source": [
    "u = analytical_u(x,x_p,0)\n",
    "plt.plot(x, u,ls='--',color ='black')\n",
    "plt.grid()"
   ]
  },
  {
   "cell_type": "code",
   "execution_count": 21,
   "metadata": {},
   "outputs": [],
   "source": [
    "direc = \"ana_sine\"\n",
    "if os.path.isdir(direc):\n",
    "    print('Directory'+direc+'already exists')\n",
    "else:\n",
    "    os.makedirs(direc)\n",
    "images = []\n",
    "for t in t_int:\n",
    "    u = analytical_u(x,x_p,t)\n",
    "    u_2 = np.sin(x-t)\n",
    "    plt.figure(figsize=(11, 7), dpi=100)\n",
    "    plt.grid()\n",
    "    plt.plot(x, u,color ='black', label = 'sin(x+x_p(t)-t)')\n",
    "    plt.plot(x, u_2,label = 'sin(x-t)')\n",
    "    plt.xlim(-7,7)\n",
    "    plt.ylim(-1.5,1.5)\n",
    "    plt.title(str(np.round(t,3)))\n",
    "    plt.legend()\n",
    "    name = direc+\"/figure\"+str(np.round(t,3))+'.png'\n",
    "    plt.savefig(name)\n",
    "    images.append(imageio.imread(name))\n",
    "    plt.close()\n",
    "gifName = direc+'/movie.gif'\n",
    "imageio.mimsave(gifName,images)"
   ]
  },
  {
   "cell_type": "code",
   "execution_count": null,
   "metadata": {},
   "outputs": [],
   "source": []
  },
  {
   "cell_type": "code",
   "execution_count": null,
   "metadata": {},
   "outputs": [],
   "source": []
  }
 ],
 "metadata": {
  "kernelspec": {
   "display_name": "Python 3",
   "language": "python",
   "name": "python3"
  },
  "language_info": {
   "codemirror_mode": {
    "name": "ipython",
    "version": 3
   },
   "file_extension": ".py",
   "mimetype": "text/x-python",
   "name": "python",
   "nbconvert_exporter": "python",
   "pygments_lexer": "ipython3",
   "version": "3.7.1"
  }
 },
 "nbformat": 4,
 "nbformat_minor": 2
}

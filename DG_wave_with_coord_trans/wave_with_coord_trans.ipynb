{
 "cells": [
  {
   "cell_type": "code",
   "execution_count": 1,
   "metadata": {},
   "outputs": [],
   "source": [
    "import numpy as np\n",
    "from matplotlib import pyplot as plt\n",
    "from ReferenceElement import *\n",
    "import os\n",
    "import imageio\n",
    "from dg_wave_with_coord_trans_new import *\n",
    "%matplotlib inline"
   ]
  },
  {
   "cell_type": "code",
   "execution_count": 2,
   "metadata": {},
   "outputs": [],
   "source": [
    "x_p_0 = 0.\n",
    "speed_limit = 0.3\n",
    "def x_p(t):\n",
    "    return x_p_0 + speed_limit*np.sin(t)\n",
    "def y_to_x(y,t):\n",
    "    return y + speed_limit*np.sin(t)\n",
    "def x_p_dot(t):\n",
    "    return speed_limit*np.cos(t)\n",
    "def x_p_dot_dot(t):\n",
    "    return -speed_limit*np.sin(t)\n",
    "def analytical_u(x,t):\n",
    "#     return np.cos(x+x_p(t)-t)+1/2*np.sin(x+x_p(t)+t)\n",
    "    return np.sin(x+x_p(t)-t)\n",
    "def analytical_p(x,xp,t):\n",
    "#     return np.sin(x-t)+1/2*np.cos(x+t)\n",
    "    return -np.cos(x-t)\n",
    "def analytical_q(x,xp,t):\n",
    "#     return -np.sin(x-t) +1/2*np.cos(x+t)\n",
    "    return np.cos(x-t)\n",
    "\n",
    "N = 8\n",
    "K = 8\n",
    "CF = 2.**(-7)\n",
    "start = -2.*np.pi\n",
    "end = 2.*np.pi\n",
    "a1 = 1.\n",
    "a2 = -1.\n",
    "alpha = 0.\n",
    "h = (end-start)/K\n",
    "\n",
    "reference_element = ReferenceElement(N)\n",
    "reference_interval = reference_element[0]\n",
    "M_inv = reference_element[1]*2/h\n",
    "M_inv_S = reference_element[2]*2/h"
   ]
  },
  {
   "cell_type": "code",
   "execution_count": 3,
   "metadata": {},
   "outputs": [
    {
     "name": "stdout",
     "output_type": "stream",
     "text": [
      "0.000615077236711857\n"
     ]
    }
   ],
   "source": [
    "y = get_x_elements(start,end, K, reference_interval)\n",
    "dx_min = get_dx_min(y)\n",
    "dt = CF*dx_min\n",
    "print(dt)"
   ]
  },
  {
   "cell_type": "code",
   "execution_count": 4,
   "metadata": {},
   "outputs": [
    {
     "data": {
      "image/png": "[encoded data removed]",
      "text/plain": [
       "<Figure size 432x288 with 1 Axes>"
      ]
     },
     "metadata": {
      "needs_background": "light"
     },
     "output_type": "display_data"
    }
   ],
   "source": [
    "def potential(x,sigma,x0):\n",
    "    #return 1/np.sqrt(2*np.pi*sigma**2)*np.exp(-(x-x0)**2/(2*sigma**2))\n",
    "    return 0*x\n",
    "sigma = 0.2\n",
    "x_center = -np.pi/2\n",
    "potential_term = potential(y,sigma,x_center)\n",
    "for i in range(len(y)):\n",
    "    plt.plot(y[i],potential_term[i])"
   ]
  },
  {
   "cell_type": "code",
   "execution_count": 5,
   "metadata": {},
   "outputs": [
    {
     "name": "stdout",
     "output_type": "stream",
     "text": [
      "3\n"
     ]
    }
   ],
   "source": [
    "xp = 0\n",
    "for i in range(len(y)):\n",
    "        if np.round(y[i][-1],6) == np.round(xp,6):\n",
    "            k_xp = i\n",
    "            break\n",
    "print(i)\n",
    "def source_minus_A(t):\n",
    "#     return -np.cos(xp-t) - np.sin(xp+t)\n",
    "    return t*0\n",
    "def source_D_dot(t):\n",
    "#    return  np.cos(xp-t) - np.sin(xp+t)\n",
    "    return t*0\n",
    "def sourceJ1(t):\n",
    "    return t*0\n",
    "def sourceJ2(t):\n",
    "    return t*0"
   ]
  },
  {
   "cell_type": "code",
   "execution_count": 6,
   "metadata": {},
   "outputs": [
    {
     "name": "stdout",
     "output_type": "stream",
     "text": [
      "1276\n"
     ]
    }
   ],
   "source": [
    "t = 0.\n",
    "t_target = np.pi/4\n",
    "nt = int((t_target-t)/dt)\n",
    "u = analytical_u(y,t)\n",
    "p = analytical_p(y,xp,t)\n",
    "q = analytical_q(y,xp,t)\n",
    "# q = x*0\n",
    "# p = x*0\n",
    "# u = x*0\n",
    "print (nt)"
   ]
  },
  {
   "cell_type": "code",
   "execution_count": 7,
   "metadata": {},
   "outputs": [],
   "source": [
    "# plt.plot(y.flatten(), u.flatten(), label = 'u')\n",
    "# plt.plot(y.flatten(), p.flatten(), label = 'p')\n",
    "# plt.plot(y.flatten(), q.flatten(), label = 'q')\n",
    "# plt.legend()\n",
    "# plt.ylim(-1.5,1.5)"
   ]
  },
  {
   "cell_type": "code",
   "execution_count": 8,
   "metadata": {},
   "outputs": [],
   "source": [
    "# dq = dq_dt(q,u,p,K, N,t,M_inv,M_inv_S,False,sourceJ1,sourceJ2,k_xp,potential_term,x_p, x_p_dot, x_p_dot_dot)\n",
    "# dp = dp_dt(p,u,q,K, N,t,M_inv,M_inv_S,False,sourceJ1,sourceJ2,k_xp,potential_term,x_p, x_p_dot, x_p_dot_dot)\n",
    "# for i in range(len(y)):\n",
    "#     plt.plot(y[i],dq[i])\n",
    "# plt.plot()"
   ]
  },
  {
   "cell_type": "code",
   "execution_count": 9,
   "metadata": {},
   "outputs": [],
   "source": [
    "# for i in range(len(y)):\n",
    "#     plt.plot(y[i],dp[i])\n"
   ]
  },
  {
   "cell_type": "code",
   "execution_count": null,
   "metadata": {},
   "outputs": [],
   "source": []
  },
  {
   "cell_type": "code",
   "execution_count": 10,
   "metadata": {},
   "outputs": [],
   "source": [
    "# direc = \"results_week5_1_ana_4\"\n",
    "# if os.path.isdir(direc):\n",
    "#     print('Directory'+direc+'already exists')\n",
    "# else:\n",
    "#     os.makedirs(direc)\n",
    "# images = []"
   ]
  },
  {
   "cell_type": "code",
   "execution_count": 11,
   "metadata": {},
   "outputs": [
    {
     "name": "stdout",
     "output_type": "stream",
     "text": [
      "0.7848385540443136\n"
     ]
    }
   ],
   "source": [
    "for i in range(nt):\n",
    "    un = u.copy()\n",
    "    pn = p.copy()\n",
    "    qn = q.copy()\n",
    "    u = RK4_Step(dt, du_dt,un,pn,qn,K,N,t,M_inv,M_inv_S,False  ,sourceJ1, sourceJ2,k_xp,potential_term,x_p,x_p_dot,x_p_dot_dot)\n",
    "    p = RK4_Step(dt, dp_dt,pn,un,qn,K,N,t,M_inv,M_inv_S,False  ,sourceJ1, sourceJ2,k_xp,potential_term,x_p,x_p_dot,x_p_dot_dot)\n",
    "    q = RK4_Step(dt, dq_dt,qn,un,pn,K,N,t,M_inv,M_inv_S,False  ,sourceJ1, sourceJ2,k_xp,potential_term,x_p,x_p_dot,x_p_dot_dot)\n",
    "    t += dt\n",
    "#     if i%(nt//100)==0:\n",
    "#         plt.figure(figsize=(11, 7), dpi=100)\n",
    "#         x_ = y_to_x(y,t)\n",
    "#         for i in range(len(u)):\n",
    "#             plt.plot(y[i]+x_p(t), u[i])\n",
    "#         u_ana = analytical_u(y,t)\n",
    "#         plt.plot(y.flatten(),u_ana.flatten(), ls = '--',color= 'black')\n",
    "#         plt.xlim(-7,7)\n",
    "#         plt.ylim(-2,2)\n",
    "#         plt.title(str(np.round(t,3)))\n",
    "#         name = direc+\"/figure\"+str(np.round(t,3))+'.png'\n",
    "#         plt.savefig(name)\n",
    "#         images.append(imageio.imread(name))\n",
    "#         plt.close()\n",
    "# gifName = direc+'/movie.gif'\n",
    "# imageio.mimsave(gifName,images)\n",
    "print(t)"
   ]
  },
  {
   "cell_type": "code",
   "execution_count": 12,
   "metadata": {},
   "outputs": [
    {
     "data": {
      "text/plain": [
       "1.1327622912979083"
      ]
     },
     "execution_count": 12,
     "metadata": {},
     "output_type": "execute_result"
    },
    {
     "data": {
      "image/png": "[encoded data removed]",
      "text/plain": [
       "<Figure size 432x288 with 1 Axes>"
      ]
     },
     "metadata": {
      "needs_background": "light"
     },
     "output_type": "display_data"
    }
   ],
   "source": [
    "plt.plot((y+x_p(t)).flatten(), u.flatten(), label = 'u')\n",
    "u_ana = analytical_u(y,t)\n",
    "plt.plot(y.flatten(),u_ana.flatten(), ls = '--')\n",
    "plt.grid(True)\n",
    "\n",
    "# plt.plot(y.flatten(), p.flatten(), label = 'p')\n",
    "# plt.plot(y.flatten(), q.flatten(), label = 'q')\n",
    "# p_ana =  analytical_p(y,xp,t)\n",
    "# q_ana =  analytical_q(y,xp,t)\n",
    "# plt.plot(y.flatten(),p_ana.flatten(),linestyle='--')\n",
    "# plt.plot(y.flatten(),q_ana.flatten(),linestyle='--')\n",
    "# plt.legend()\n",
    "# plt.ylim(-1.5,1.5)\n",
    "np.max(u)"
   ]
  },
  {
   "cell_type": "code",
   "execution_count": 13,
   "metadata": {},
   "outputs": [
    {
     "name": "stdout",
     "output_type": "stream",
     "text": [
      "0.17146285173886056\n"
     ]
    },
    {
     "data": {
      "image/png": "[encoded data removed]",
      "text/plain": [
       "<Figure size 432x288 with 1 Axes>"
      ]
     },
     "metadata": {
      "needs_background": "light"
     },
     "output_type": "display_data"
    }
   ],
   "source": [
    "error = u-u_ana\n",
    "plt.plot(y.flatten(),error.flatten())\n",
    "print(np.max(error))"
   ]
  },
  {
   "cell_type": "code",
   "execution_count": 14,
   "metadata": {},
   "outputs": [],
   "source": [
    "# error_p = np.log10(np.abs((p-p_ana)/p_ana)).flatten()\n",
    "# plt.plot(y.flatten(),error_p,)\n",
    "# error_q = np.log10(np.abs((q-q_ana)/q_ana)).flatten()\n",
    "# plt.plot(y.flatten(),error_q)"
   ]
  },
  {
   "cell_type": "code",
   "execution_count": 15,
   "metadata": {},
   "outputs": [],
   "source": [
    "# dq = dq_dt(q,u,p,K, N,t,M_inv,M_inv_S,False,sourceJ1,sourceJ2,k_xp,potential_term,x_p, x_p_dot, x_p_dot_dot)\n",
    "# dp = dp_dt(p,u,q,K, N,t,M_inv,M_inv_S,False,sourceJ1,sourceJ2,k_xp,potential_term,x_p, x_p_dot, x_p_dot_dot)\n",
    "# for i in range(len(y)):\n",
    "#     plt.plot(y[i],dp[i])\n",
    "# #plt.ylim(-5,5)"
   ]
  },
  {
   "cell_type": "code",
   "execution_count": 16,
   "metadata": {},
   "outputs": [],
   "source": [
    "# for i in range(len(y)):\n",
    "#     plt.plot(y[i],dq[i])\n",
    "# #plt.ylim(-5,5)"
   ]
  },
  {
   "cell_type": "code",
   "execution_count": null,
   "metadata": {},
   "outputs": [],
   "source": []
  },
  {
   "cell_type": "code",
   "execution_count": null,
   "metadata": {},
   "outputs": [],
   "source": []
  },
  {
   "cell_type": "code",
   "execution_count": null,
   "metadata": {},
   "outputs": [],
   "source": []
  },
  {
   "cell_type": "code",
   "execution_count": null,
   "metadata": {},
   "outputs": [],
   "source": []
  },
  {
   "cell_type": "code",
   "execution_count": 17,
   "metadata": {},
   "outputs": [
    {
     "data": {
      "text/plain": [
       "-0.2120132900757233"
      ]
     },
     "execution_count": 17,
     "metadata": {},
     "output_type": "execute_result"
    }
   ],
   "source": [
    "x_p_dot_dot(t)"
   ]
  },
  {
   "cell_type": "code",
   "execution_count": null,
   "metadata": {},
   "outputs": [],
   "source": []
  },
  {
   "cell_type": "code",
   "execution_count": null,
   "metadata": {},
   "outputs": [],
   "source": []
  },
  {
   "cell_type": "code",
   "execution_count": null,
   "metadata": {},
   "outputs": [],
   "source": []
  }
 ],
 "metadata": {
  "kernelspec": {
   "display_name": "Python 3",
   "language": "python",
   "name": "python3"
  },
  "language_info": {
   "codemirror_mode": {
    "name": "ipython",
    "version": 3
   },
   "file_extension": ".py",
   "mimetype": "text/x-python",
   "name": "python",
   "nbconvert_exporter": "python",
   "pygments_lexer": "ipython3",
   "version": "3.7.1"
  }
 },
 "nbformat": 4,
 "nbformat_minor": 2
}

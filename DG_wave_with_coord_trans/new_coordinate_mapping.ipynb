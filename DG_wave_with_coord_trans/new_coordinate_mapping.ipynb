{
 "cells": [
  {
   "cell_type": "code",
   "execution_count": 2,
   "metadata": {},
   "outputs": [],
   "source": [
    "import numpy as np\n",
    "from matplotlib import pyplot as plt\n",
    "%matplotlib inline\n",
    "from ReferenceElement import *\n",
    "from dg_wave_with_coord_trans_new import *"
   ]
  },
  {
   "cell_type": "code",
   "execution_count": 19,
   "metadata": {},
   "outputs": [],
   "source": []
  },
  {
   "cell_type": "code",
   "execution_count": 28,
   "metadata": {},
   "outputs": [],
   "source": [
    "x_p0 = 5\n",
    "def x_p(t):\n",
    "    return x_p0 + np.sin(t)\n",
    "def xi_to_x(xi,a,b,t,x_p, xi_p,x_p0):\n",
    "    x = a + (x_p(t)-a)/(xi_p-a)*(xi-a) + ((b-x_p(t))*(xi_p-a)-(x_p(t)-a)*(b-xi_p))/((xi_p-a)*(b-xi_p)*(b-a))*(xi-a)*(xi-xi_p)    \n",
    "    return x"
   ]
  },
  {
   "cell_type": "code",
   "execution_count": 21,
   "metadata": {},
   "outputs": [],
   "source": [
    "start = 0\n",
    "end = 10\n",
    "N = 5\n",
    "x_p0 = 7.5\n",
    "K = 4\n",
    "h = (end-start)/K\n",
    "xi_p =7.5\n",
    "reference_element = ReferenceElement(N)\n",
    "reference_interval = reference_element[0]\n",
    "M_inv = reference_element[1]*2/h\n",
    "M_inv_S = reference_element[2]*2/h\n",
    "xi_int = get_x_elements(start,end,K, reference_interval)"
   ]
  },
  {
   "cell_type": "code",
   "execution_count": 22,
   "metadata": {},
   "outputs": [
    {
     "data": {
      "text/plain": [
       "array([[ 0.        ,  0.44571071,  1.32739843,  2.32570874,  3.12340435,\n",
       "         3.5       ],\n",
       "       [ 3.5       ,  3.86739582,  4.58914227,  5.39729823,  6.03505257,\n",
       "         6.33333333],\n",
       "       [ 6.33333333,  6.62241426,  7.18421944,  7.80222106,  8.28003413,\n",
       "         8.5       ],\n",
       "       [ 8.5       ,  8.71076604,  9.11262994,  9.54047722,  9.85834902,\n",
       "        10.        ]])"
      ]
     },
     "execution_count": 22,
     "metadata": {},
     "output_type": "execute_result"
    }
   ],
   "source": [
    "t = np.pi/2\n",
    "x_int = xi_to_x(xi_int,start,end,t,x_p,xi_p,x_p0)\n",
    "x_int"
   ]
  },
  {
   "cell_type": "code",
   "execution_count": 23,
   "metadata": {},
   "outputs": [],
   "source": [
    "y1 = np.ones_like(x_int)\n",
    "y2 = np.zeros_like(xi_int)"
   ]
  },
  {
   "cell_type": "code",
   "execution_count": 24,
   "metadata": {},
   "outputs": [
    {
     "data": {
      "text/plain": [
       "Text(0.5, 1.0, 't = 1.571')"
      ]
     },
     "execution_count": 24,
     "metadata": {},
     "output_type": "execute_result"
    },
    {
     "data": {
      "image/png": "[encoded data removed]",
      "text/plain": [
       "<Figure size 432x288 with 1 Axes>"
      ]
     },
     "metadata": {
      "needs_background": "light"
     },
     "output_type": "display_data"
    }
   ],
   "source": [
    "for i in range(len(xi_int)):\n",
    "    plt.plot(xi_int[i],y2[i], marker = 'o')\n",
    "    plt.plot(x_int[i],y1[i], marker = 'o', label = 'x')\n",
    "plt.ylim(-1,10)\n",
    "plt.legend()\n",
    "plt.title('t = '+ str(np.round(t,3)))"
   ]
  },
  {
   "cell_type": "code",
   "execution_count": 25,
   "metadata": {},
   "outputs": [],
   "source": [
    "t_int = np.linspace(0,2*np.pi,100)\n",
    "direc = \"coord2\"\n",
    "if os.path.isdir(direc):\n",
    "    print('Directory'+direc+'already exists')\n",
    "else:\n",
    "    os.makedirs(direc)\n",
    "images = []\n",
    "for t in t_int:\n",
    "    x_int = xi_to_x(xi_int,start,end,t,x_p,xi_p,x_p0)\n",
    "    \n",
    "    plt.figure(figsize=(11, 7), dpi=100)\n",
    "    plt.grid()\n",
    "    for i in range(len(xi_int)):\n",
    "        plt.plot(xi_int[i],y2[i], marker = 'o')\n",
    "        plt.plot(x_int[i],y1[i], marker = 'o', label = 'x')\n",
    "    plt.ylim(-1,10)\n",
    "    plt.legend()\n",
    "    plt.title('t = '+ str(np.round(t,3)))\n",
    "    plt.title(str(np.round(t,3)))\n",
    "    name = direc+\"/figure\"+str(np.round(t,3))+'.png'\n",
    "    plt.savefig(name)\n",
    "    images.append(imageio.imread(name))\n",
    "    plt.close()\n",
    "gifName = direc+'/movie.gif'\n",
    "imageio.mimsave(gifName,images)"
   ]
  },
  {
   "cell_type": "code",
   "execution_count": 27,
   "metadata": {},
   "outputs": [],
   "source": []
  },
  {
   "cell_type": "code",
   "execution_count": null,
   "metadata": {},
   "outputs": [],
   "source": []
  },
  {
   "cell_type": "code",
   "execution_count": null,
   "metadata": {},
   "outputs": [],
   "source": []
  },
  {
   "cell_type": "code",
   "execution_count": null,
   "metadata": {},
   "outputs": [],
   "source": []
  }
 ],
 "metadata": {
  "kernelspec": {
   "display_name": "Python 3",
   "language": "python",
   "name": "python3"
  },
  "language_info": {
   "codemirror_mode": {
    "name": "ipython",
    "version": 3
   },
   "file_extension": ".py",
   "mimetype": "text/x-python",
   "name": "python",
   "nbconvert_exporter": "python",
   "pygments_lexer": "ipython3",
   "version": "3.7.1"
  }
 },
 "nbformat": 4,
 "nbformat_minor": 2
}

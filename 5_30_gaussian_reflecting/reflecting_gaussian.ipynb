{
 "cells": [
  {
   "cell_type": "code",
   "execution_count": 1,
   "metadata": {},
   "outputs": [],
   "source": [
    "import numpy as np\n",
    "from matplotlib import pyplot,cm as plt,cm\n",
    "from scipy.interpolate import *\n",
    "from ReferenceElement import *\n",
    "import os\n",
    "import imageio\n",
    "from DG_functions_gaussian_reflecting import *"
   ]
  },
  {
   "cell_type": "code",
   "execution_count": 2,
   "metadata": {},
   "outputs": [],
   "source": [
    "N = 8\n",
    "K = 10\n",
    "CF = 2.**(-7)\n",
    "start = 0.\n",
    "end = 1.\n",
    "a1 = 1.\n",
    "a2 = -1.\n",
    "alpha = 0.\n",
    "h = (end-start)/K\n",
    "\n",
    "\n",
    "reference_element = ReferenceElement(N)\n",
    "reference_interval = reference_element[0]\n",
    "M_inv = reference_element[1]*2/h\n",
    "M_inv_S = reference_element[2]*2/h"
   ]
  },
  {
   "cell_type": "code",
   "execution_count": 3,
   "metadata": {},
   "outputs": [],
   "source": [
    "def potential_term(x):\n",
    "    return 0*x\n",
    "def source_zero(t):\n",
    "    return 0*t"
   ]
  },
  {
   "cell_type": "code",
   "execution_count": 4,
   "metadata": {},
   "outputs": [],
   "source": [
    "x = get_x_elements(start,end, K, reference_interval)\n",
    "dx_min = get_dx_min(x)"
   ]
  },
  {
   "cell_type": "code",
   "execution_count": 5,
   "metadata": {},
   "outputs": [],
   "source": [
    "def u_ana(x,t,sigma,x0):\n",
    "    return 1/np.sqrt(2*np.pi*sigma**2)*np.exp(-(x-t-x0)**2/(2*sigma**2))\n",
    "    #return 1/2*(np.sin(2*np.pi*(x-t))+ np.sin(2*np.pi*(x+t)))\n",
    "def v_ana(x,t):\n",
    "    return 0*x\n",
    "x_ana = np.linspace(0,1,101)\n",
    "#x_ana = np.linspace(0,1,101)\n",
    "#theta_left = np.heaviside(0.6-x_ana,1)\n",
    "#theta_right = np.heaviside(x_ana-0.6,1)"
   ]
  },
  {
   "cell_type": "code",
   "execution_count": 6,
   "metadata": {},
   "outputs": [],
   "source": [
    "x0 = 0.5\n",
    "sigma = 0.05\n",
    "u = u_ana(x,0,sigma,x0)\n",
    "v = v_ana(x,0)"
   ]
  },
  {
   "cell_type": "code",
   "execution_count": 7,
   "metadata": {},
   "outputs": [
    {
     "data": {
      "image/png": "[encoded data removed]",
      "text/plain": [
       "<Figure size 432x288 with 1 Axes>"
      ]
     },
     "metadata": {
      "needs_background": "light"
     },
     "output_type": "display_data"
    }
   ],
   "source": [
    "for i in range(len(u)):\n",
    "    plt.plot(x[i],u[i])"
   ]
  },
  {
   "cell_type": "code",
   "execution_count": 8,
   "metadata": {},
   "outputs": [
    {
     "name": "stdout",
     "output_type": "stream",
     "text": [
      "25538\n"
     ]
    }
   ],
   "source": [
    "u = u_ana(x,0,sigma,x0)\n",
    "v = v_ana(x,0)\n",
    "t = 0.\n",
    "V = potential_term(x)\n",
    "t_target = 1.0\n",
    "dt = CF*dx_min\n",
    "nt = int((t_target-t)/dt)\n",
    "print (nt)"
   ]
  },
  {
   "cell_type": "code",
   "execution_count": 9,
   "metadata": {},
   "outputs": [],
   "source": [
    "#u[0][0]=0\n",
    "#u[-1][-1]=0"
   ]
  },
  {
   "cell_type": "code",
   "execution_count": 10,
   "metadata": {},
   "outputs": [],
   "source": [
    "direc = \"results_haha\"\n",
    "if os.path.isdir(direc):\n",
    "    print('Directory'+direc+'already exists')\n",
    "else:\n",
    "    os.makedirs(direc)\n",
    "images = []"
   ]
  },
  {
   "cell_type": "code",
   "execution_count": 11,
   "metadata": {},
   "outputs": [
    {
     "name": "stderr",
     "output_type": "stream",
     "text": [
      "No handles with labels found to put in legend.\n",
      "No handles with labels found to put in legend.\n",
      "No handles with labels found to put in legend.\n",
      "No handles with labels found to put in legend.\n",
      "No handles with labels found to put in legend.\n",
      "No handles with labels found to put in legend.\n",
      "No handles with labels found to put in legend.\n",
      "No handles with labels found to put in legend.\n",
      "No handles with labels found to put in legend.\n",
      "No handles with labels found to put in legend.\n",
      "No handles with labels found to put in legend.\n",
      "No handles with labels found to put in legend.\n",
      "No handles with labels found to put in legend.\n",
      "No handles with labels found to put in legend.\n",
      "No handles with labels found to put in legend.\n",
      "No handles with labels found to put in legend.\n",
      "No handles with labels found to put in legend.\n",
      "No handles with labels found to put in legend.\n",
      "No handles with labels found to put in legend.\n",
      "No handles with labels found to put in legend.\n",
      "No handles with labels found to put in legend.\n",
      "No handles with labels found to put in legend.\n",
      "No handles with labels found to put in legend.\n",
      "No handles with labels found to put in legend.\n",
      "No handles with labels found to put in legend.\n",
      "No handles with labels found to put in legend.\n",
      "No handles with labels found to put in legend.\n",
      "No handles with labels found to put in legend.\n",
      "No handles with labels found to put in legend.\n",
      "No handles with labels found to put in legend.\n",
      "No handles with labels found to put in legend.\n",
      "No handles with labels found to put in legend.\n",
      "No handles with labels found to put in legend.\n",
      "No handles with labels found to put in legend.\n",
      "No handles with labels found to put in legend.\n",
      "No handles with labels found to put in legend.\n",
      "No handles with labels found to put in legend.\n",
      "No handles with labels found to put in legend.\n",
      "No handles with labels found to put in legend.\n",
      "No handles with labels found to put in legend.\n",
      "No handles with labels found to put in legend.\n",
      "No handles with labels found to put in legend.\n",
      "No handles with labels found to put in legend.\n",
      "No handles with labels found to put in legend.\n",
      "No handles with labels found to put in legend.\n",
      "No handles with labels found to put in legend.\n",
      "No handles with labels found to put in legend.\n",
      "No handles with labels found to put in legend.\n",
      "No handles with labels found to put in legend.\n",
      "No handles with labels found to put in legend.\n",
      "No handles with labels found to put in legend.\n",
      "No handles with labels found to put in legend.\n"
     ]
    }
   ],
   "source": [
    "#nt= 3000\n",
    "u_last = []\n",
    "for n in range(nt):\n",
    "    un = u.copy()\n",
    "    vn = v.copy()\n",
    "    v[-1][-1] = np.matmul(M_inv_S, u[-1])[-1]\n",
    "    v = RK4_Step(dt,DG_du_dt_radiative,vn, K,N,t,a2,alpha,M_inv, M_inv_S,source_zero,None,V,un)\n",
    "    \n",
    "    u = RK4_Step(dt,DG_du_dt_radiative,un, K,N,t,a1,alpha,M_inv, M_inv_S,source_zero,v  ,V,None)\n",
    "    \n",
    "    #u[0][0] = 0\n",
    "    #u[-1][-1]=0\n",
    "    t += dt \n",
    "    if n%500 ==0:\n",
    "        plt.figure(figsize=(11, 7), dpi=100)\n",
    "        for i in range(len(u)):\n",
    "            plt.plot(x[i],u[i],marker ='o')\n",
    "            plt.plot(x[i],v[i],linestyle='--')\n",
    "        plt.ylabel('u')\n",
    "        plt.ylim(-10,10)\n",
    "        plt.title('t = '+str(np.round(t,3)))\n",
    "        plt.legend()\n",
    "        name = direc+\"/figure\"+str(np.round(t,3))+'.png'\n",
    "        plt.savefig(name)\n",
    "        images.append(imageio.imread(name))\n",
    "        plt.close()\n",
    "gifName = direc+'/movie.gif'\n",
    "imageio.mimsave(gifName,images)"
   ]
  },
  {
   "cell_type": "code",
   "execution_count": 12,
   "metadata": {
    "scrolled": true
   },
   "outputs": [
    {
     "data": {
      "image/png": "[encoded data removed]",
      "text/plain": [
       "<Figure size 432x288 with 1 Axes>"
      ]
     },
     "metadata": {
      "needs_background": "light"
     },
     "output_type": "display_data"
    }
   ],
   "source": [
    "for i in range(len(u)):\n",
    "    plt.plot(x[i],u[i])"
   ]
  },
  {
   "cell_type": "code",
   "execution_count": 13,
   "metadata": {},
   "outputs": [
    {
     "data": {
      "image/png": "[encoded data removed]",
      "text/plain": [
       "<Figure size 432x288 with 1 Axes>"
      ]
     },
     "metadata": {
      "needs_background": "light"
     },
     "output_type": "display_data"
    }
   ],
   "source": [
    "for i in range(len(v)):\n",
    "    plt.plot(x[i], v[i])\n"
   ]
  },
  {
   "cell_type": "code",
   "execution_count": null,
   "metadata": {},
   "outputs": [],
   "source": []
  },
  {
   "cell_type": "code",
   "execution_count": null,
   "metadata": {},
   "outputs": [],
   "source": []
  },
  {
   "cell_type": "code",
   "execution_count": null,
   "metadata": {},
   "outputs": [],
   "source": []
  },
  {
   "cell_type": "code",
   "execution_count": null,
   "metadata": {},
   "outputs": [],
   "source": []
  },
  {
   "cell_type": "code",
   "execution_count": null,
   "metadata": {},
   "outputs": [],
   "source": []
  },
  {
   "cell_type": "code",
   "execution_count": null,
   "metadata": {},
   "outputs": [],
   "source": []
  },
  {
   "cell_type": "code",
   "execution_count": null,
   "metadata": {},
   "outputs": [],
   "source": []
  }
 ],
 "metadata": {
  "kernelspec": {
   "display_name": "Python 3",
   "language": "python",
   "name": "python3"
  },
  "language_info": {
   "codemirror_mode": {
    "name": "ipython",
    "version": 3
   },
   "file_extension": ".py",
   "mimetype": "text/x-python",
   "name": "python",
   "nbconvert_exporter": "python",
   "pygments_lexer": "ipython3",
   "version": "3.7.1"
  }
 },
 "nbformat": 4,
 "nbformat_minor": 2
}

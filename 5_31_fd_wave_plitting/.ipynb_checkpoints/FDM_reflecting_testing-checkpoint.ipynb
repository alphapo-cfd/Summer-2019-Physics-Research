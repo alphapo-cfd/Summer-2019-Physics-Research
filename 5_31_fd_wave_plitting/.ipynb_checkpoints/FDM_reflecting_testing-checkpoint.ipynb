{
 "cells": [
  {
   "cell_type": "code",
   "execution_count": 1,
   "metadata": {},
   "outputs": [],
   "source": [
    "import numpy as np\n",
    "from matplotlib import pyplot as plt\n",
    "import os\n",
    "import imageio\n",
    "from fd_functions import *"
   ]
  },
  {
   "cell_type": "code",
   "execution_count": 2,
   "metadata": {},
   "outputs": [
    {
     "name": "stdout",
     "output_type": "stream",
     "text": [
      "0.01\n"
     ]
    }
   ],
   "source": [
    "Nx = 100\n",
    "start = 0.\n",
    "end = 1.\n",
    "x = np.linspace(start,end,Nx,endpoint = False)\n",
    "dx = (end-start)/Nx\n",
    "a1 = 1.\n",
    "a2 = -1.\n",
    "CF = 2.**(-3)\n",
    "dt = CF*dx\n",
    "t = 0.\n",
    "print(dx)"
   ]
  },
  {
   "cell_type": "code",
   "execution_count": 3,
   "metadata": {},
   "outputs": [],
   "source": [
    "def u_ana(x,t,sigma,x0):\n",
    "    return 1/np.sqrt(2*np.pi*sigma**2)*np.exp(-(x-t-x0)**2/(2*sigma**2))\n",
    "def v_ana(x,t):\n",
    "    return 0*x"
   ]
  },
  {
   "cell_type": "code",
   "execution_count": 4,
   "metadata": {},
   "outputs": [
    {
     "name": "stdout",
     "output_type": "stream",
     "text": [
      "2400\n"
     ]
    }
   ],
   "source": [
    "t = 0 \n",
    "t_target = 3.0\n",
    "sigma = 0.05\n",
    "x0 = 0.5\n",
    "u = u_ana(x, t, sigma, x0)\n",
    "v = v_ana(x,0)\n",
    "#plt.plot(x,u)\n",
    "nt = int((t_target-t)/dt)\n",
    "print (nt)"
   ]
  },
  {
   "cell_type": "code",
   "execution_count": 5,
   "metadata": {},
   "outputs": [],
   "source": [
    "direc = \"results_1\"\n",
    "if os.path.isdir(direc):\n",
    "    print('Directory'+direc+'already exists')\n",
    "else:\n",
    "    os.makedirs(direc)\n",
    "images = []"
   ]
  },
  {
   "cell_type": "code",
   "execution_count": 6,
   "metadata": {},
   "outputs": [],
   "source": [
    "for n in range(nt):\n",
    "    un = u.copy()\n",
    "    vn = v.copy()\n",
    "    u = RK4_step(u, a1, dx,dt,du_dx_radiative,d_dt, vn)\n",
    "    v = RK4_step(v, a2, dx,dt,du_dx_radiative,d_dt, None)\n",
    "    v[0] = a1*(du_dx_radiative(u,a1,dx)[0])\n",
    "    v[-1]= a1*(du_dx_radiative(u,a1,dx)[-1])\n",
    "    t += dt\n",
    "    if n%24 ==0:\n",
    "        plt.figure(figsize=(11, 7), dpi=100)\n",
    "        plt.plot(x,u, label = 'u')\n",
    "        plt.plot(x,v, linestyle = '--', label = 'v')\n",
    "        plt.ylim(-10,10)\n",
    "        plt.title(str(np.round(t,3)))\n",
    "        plt.legend()\n",
    "        name = direc+\"/figure\"+str(np.round(t,3))+'.png'\n",
    "        plt.savefig(name)\n",
    "        images.append(imageio.imread(name))\n",
    "        plt.close()\n",
    "gifName = direc+'/movie.gif'\n",
    "imageio.mimsave(gifName,images)"
   ]
  },
  {
   "cell_type": "code",
   "execution_count": 7,
   "metadata": {},
   "outputs": [
    {
     "data": {
      "text/plain": [
       "<matplotlib.legend.Legend at 0x123b45a4cc0>"
      ]
     },
     "execution_count": 7,
     "metadata": {},
     "output_type": "execute_result"
    },
    {
     "data": {
      "image/png": "[encoded data removed]",
      "text/plain": [
       "<Figure size 432x288 with 1 Axes>"
      ]
     },
     "metadata": {
      "needs_background": "light"
     },
     "output_type": "display_data"
    }
   ],
   "source": [
    "plt.plot(x,u, label = 'u')\n",
    "plt.plot(x,v, linestyle = '--', label = 'v')\n",
    "plt.ylim(-10,10)\n",
    "plt.title(str(np.round(t,3)))\n",
    "plt.legend()"
   ]
  },
  {
   "cell_type": "code",
   "execution_count": null,
   "metadata": {},
   "outputs": [],
   "source": []
  },
  {
   "cell_type": "code",
   "execution_count": null,
   "metadata": {},
   "outputs": [],
   "source": []
  }
 ],
 "metadata": {
  "kernelspec": {
   "display_name": "Python 3",
   "language": "python",
   "name": "python3"
  },
  "language_info": {
   "codemirror_mode": {
    "name": "ipython",
    "version": 3
   },
   "file_extension": ".py",
   "mimetype": "text/x-python",
   "name": "python",
   "nbconvert_exporter": "python",
   "pygments_lexer": "ipython3",
   "version": "3.7.1"
  }
 },
 "nbformat": 4,
 "nbformat_minor": 2
}

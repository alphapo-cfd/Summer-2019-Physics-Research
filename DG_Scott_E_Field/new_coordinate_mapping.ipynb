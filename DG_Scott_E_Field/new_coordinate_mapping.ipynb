{
 "cells": [
  {
   "cell_type": "code",
   "execution_count": 1,
   "metadata": {},
   "outputs": [],
   "source": [
    "import numpy as np\n",
    "from matplotlib import pyplot as plt\n",
    "%matplotlib inline\n",
    "from ReferenceElement import *\n",
    "from dg_nonlinear_coord_trans import *"
   ]
  },
  {
   "cell_type": "code",
   "execution_count": null,
   "metadata": {},
   "outputs": [],
   "source": []
  },
  {
   "cell_type": "code",
   "execution_count": 2,
   "metadata": {},
   "outputs": [],
   "source": [
    "x_p0 = np.pi\n",
    "xi_p =np.pi\n",
    "\n",
    "def x_p(t):\n",
    "    return x_p0 + np.sin(0.3*t)\n",
    "def x_p_dot(t):\n",
    "    return  0.3*np.cos(0.3*t)\n",
    "def xi_to_x(xi,a,b,t,x_p, xi_p,x_p0):\n",
    "    x = a + (x_p(t)-a)/(xi_p-a)*(xi-a) + ((b-x_p(t))*(xi_p-a)-(x_p(t)-a)*(b-xi_p))/((xi_p-a)*(b-xi_p)*(b-a))*(xi-a)*(xi-xi_p)    \n",
    "    return x"
   ]
  },
  {
   "cell_type": "code",
   "execution_count": 3,
   "metadata": {},
   "outputs": [
    {
     "name": "stdout",
     "output_type": "stream",
     "text": [
      "0.000615077236711857\n",
      "5\n"
     ]
    }
   ],
   "source": [
    "start = -2*np.pi\n",
    "end = 2*np.pi\n",
    "N = 8\n",
    "K = 8\n",
    "CF = 2.**(-7)\n",
    "\n",
    "h = (end-start)/K\n",
    "reference_element = ReferenceElement(N)\n",
    "reference_interval = reference_element[0]\n",
    "M_inv = reference_element[1]*2/h\n",
    "M_inv_S = reference_element[2]*2/h\n",
    "xi_int = get_x_elements(start,end,K, reference_interval)\n",
    "dx_min = get_dx_min(xi_int)\n",
    "dt = CF*dx_min\n",
    "print(dt)\n",
    "for i in range(len(xi_int)):\n",
    "        if np.round(xi_int[i][-1],6) == np.round(xi_p,6):\n",
    "            k_p = i\n",
    "            break\n",
    "print(k_p)"
   ]
  },
  {
   "cell_type": "code",
   "execution_count": 4,
   "metadata": {},
   "outputs": [],
   "source": [
    "# for i in range(len(xi_int)):\n",
    "#     plt.plot(xi_int[i],np.ones_like(xi_int[i]), marker = 'o')\n",
    "#     plt.plot(x_int[i],np.zeros_like(x_int[i]), marker = 'o', label = 'x')\n",
    "# plt.ylim(-1,10)\n",
    "# plt.legend()\n",
    "# plt.title('t = '+ str(np.round(t,3)))"
   ]
  },
  {
   "cell_type": "code",
   "execution_count": 5,
   "metadata": {},
   "outputs": [],
   "source": [
    "def u_initial(x,t):\n",
    "    return np.sin(x-t)+1/2*np.sin(x+t)\n",
    "def du_dt_initial(x,t):\n",
    "    return -np.cos(x-t)+1/2*np.cos(x+t)\n",
    "def q_initial(x,t):\n",
    "    return np.cos(x-t)+1/2*np.cos(x+t)\n",
    "def p_initial(x,t,beta_initial):\n",
    "    return beta_initial*q_initial(x,t) - du_dt_initial(x,t)\n",
    "def j1(beta, dx_dxi, t):\n",
    "#     return 0\n",
    "    return -beta*np.sin(t)+1/dx_dxi**2*2*np.sin(t)\n",
    "def j2(beta, dx_dxi,t):\n",
    "    return -beta*2*np.sin(t)+np.sin(t)\n",
    "#     return 0\n",
    "def potential_term(x, x_center, stdev):\n",
    "    return 1/np.sqrt(2*np.pi*stdev**2)*np.exp(-(x-x_center)**2/(2*stdev**2))"
   ]
  },
  {
   "cell_type": "code",
   "execution_count": 6,
   "metadata": {},
   "outputs": [],
   "source": [
    "t = 0\n",
    "x_int = xi_to_x(xi_int,start,end,t,x_p,xi_p,x_p0)"
   ]
  },
  {
   "cell_type": "code",
   "execution_count": 7,
   "metadata": {},
   "outputs": [
    {
     "name": "stdout",
     "output_type": "stream",
     "text": [
      "16258\n"
     ]
    }
   ],
   "source": [
    "t = 0.\n",
    "t_target = 10.\n",
    "nt = int((t_target - t)/dt)\n",
    "print(nt)\n",
    "beta_initial = func_beta(start,end,t,xi_p,xi_int,x_p,x_p_dot)\n",
    "# u = u_initial(xi_int,t)\n",
    "# p = p_initial(xi_int,t,beta_initial)\n",
    "# q = q_initial(xi_int,t)\n",
    "u = np.zeros_like(xi_int)\n",
    "p = np.zeros_like(xi_int)\n",
    "q = np.zeros_like(xi_int)"
   ]
  },
  {
   "cell_type": "code",
   "execution_count": 8,
   "metadata": {},
   "outputs": [
    {
     "name": "stdout",
     "output_type": "stream",
     "text": [
      "9.99992571445978\n"
     ]
    }
   ],
   "source": [
    "# direc = \"result7\"\n",
    "# if os.path.isdir(direc):\n",
    "#     print('Directory '+direc+' already exists')\n",
    "# else:\n",
    "#     os.makedirs(direc)\n",
    "# images = []\n",
    "for i in range(nt):\n",
    "    beta = func_beta(start,end,t,xi_p,xi_int,x_p,x_p_dot)\n",
    "    dx_dxi = func_dx_dxi(start, end, t,xi_p,xi_int,x_p)\n",
    "    d2x_dxi2 = func_d2x_dxi2(start,end,t,xi_p,x_p)\n",
    "    un=u.copy()\n",
    "    pn=p.copy()\n",
    "    qn=q.copy()\n",
    "    p= RK4_Step(dt, func_dp_dt,pn,un,qn,K,t,M_inv,M_inv_S,True,j1,j2,k_p,False,x_p,x_p_dot,beta,dx_dxi,d2x_dxi2)\n",
    "    q= RK4_Step(dt, func_dq_dt,qn,un,pn,K,t,M_inv,M_inv_S,True,j1,j2,k_p,False,x_p,x_p_dot,beta,dx_dxi,d2x_dxi2) \n",
    "    u= RK4_Step(dt, func_du_dt,un,pn,qn,K,t,M_inv,M_inv_S,True,j1,j2,k_p,False,x_p,x_p_dot,beta,dx_dxi,d2x_dxi2)\n",
    "    t+=dt\n",
    "    \n",
    "#     if i% int(nt/150) ==0:\n",
    "#         x = xi_to_x(xi_int,start,end,t,x_p,xi_p,x_p0)\n",
    "#         plt.figure(figsize=(11, 7), dpi=100)\n",
    "#         for i in range(len(u)):\n",
    "#             plt.plot(x[i],u[i])\n",
    "#         plt.title('u at t = '+str(np.round(t,3)))\n",
    "#         plt.xlabel('x')\n",
    "#         plt.ylim(-3,3)\n",
    "#         plt.axvline(x=x_p(t),ls ='--',color = 'black')\n",
    "#         plt.grid()        \n",
    "#         #plt.legend()\n",
    "#         name = direc+\"/figure\"+str(np.round(t,3))+'.png'\n",
    "#         plt.savefig(name)\n",
    "#         images.append(imageio.imread(name))\n",
    "#         plt.close()\n",
    "# gifName = direc+'/movie.gif'\n",
    "# imageio.mimsave(gifName,images)\n",
    "print(t)   "
   ]
  },
  {
   "cell_type": "code",
   "execution_count": 14,
   "metadata": {},
   "outputs": [
    {
     "data": {
      "image/png": "[encoded data removed]",
      "text/plain": [
       "<Figure size 432x288 with 1 Axes>"
      ]
     },
     "metadata": {
      "needs_background": "light"
     },
     "output_type": "display_data"
    }
   ],
   "source": [
    "x = xi_to_x(xi_int,start,end,t,x_p,xi_p,x_p0)\n",
    "d2x_dxi2 = func_d2x_dxi2(start,end,t,xi_p,x_p)\n",
    "beta = func_beta(start,end,t,xi_p,xi_int,x_p,x_p_dot)\n",
    "dx_dxi = func_dx_dxi(start, end, t,xi_p,xi_int,x_p)\n",
    "#dp_dt=func_dp_dt(p,u,q,K,t,M_inv,M_inv_S,True,False,False,False,False,x_p, x_p_dot,beta,dx_dxi,d2x_dxi2)\n",
    "#dq_dt=func_dq_dt(q,u,p,K,t,M_inv,M_inv_S,True,False,False,False,False,x_p, x_p_dot,beta,dx_dxi,d2x_dxi2)\n",
    "ana_u = u_initial(x,t)\n",
    "for i in range(len(u)):\n",
    "#     plt.plot(xi_int[i],u[i])\n",
    "    plt.plot(x[i],u[i])\n",
    "#     plt.plot(x[i],ana_u[i])\n",
    "#     plt.plot(xi_int[i],dp_dt[i])\n",
    "#     plt.plot(xi_int[i],dq_dt[i],ls = '--')\n",
    "# plt.ylim(-2,2)\n",
    "plt.axvline(x=x_p(t),ls ='--',color = 'black')\n",
    "plt.grid()"
   ]
  },
  {
   "cell_type": "code",
   "execution_count": 15,
   "metadata": {},
   "outputs": [
    {
     "data": {
      "text/plain": [
       "[<matplotlib.lines.Line2D at 0x1b911b120b8>]"
      ]
     },
     "execution_count": 15,
     "metadata": {},
     "output_type": "execute_result"
    },
    {
     "data": {
      "image/png": "[encoded data removed]",
      "text/plain": [
       "<Figure size 432x288 with 1 Axes>"
      ]
     },
     "metadata": {
      "needs_background": "light"
     },
     "output_type": "display_data"
    }
   ],
   "source": [
    "plt.plot(x.flatten(),(u-ana_u).flatten())"
   ]
  },
  {
   "cell_type": "code",
   "execution_count": 16,
   "metadata": {},
   "outputs": [
    {
     "data": {
      "text/plain": [
       "-0.9812923757899732"
      ]
     },
     "execution_count": 16,
     "metadata": {},
     "output_type": "execute_result"
    }
   ],
   "source": [
    "np.average(u)"
   ]
  },
  {
   "cell_type": "code",
   "execution_count": 17,
   "metadata": {},
   "outputs": [
    {
     "data": {
      "text/plain": [
       "array([[-0.        , -0.00931092, -0.02961122, -0.05737752, -0.08818909,\n",
       "        -0.11760586, -0.14191582, -0.15850305, -0.16579929],\n",
       "       [-0.16579929, -0.17298692, -0.18855652, -0.20960893, -0.23260151,\n",
       "        -0.25413801, -0.27158222, -0.28327561, -0.28836005],\n",
       "       [-0.28836005, -0.29333109, -0.30396181, -0.31800429, -0.33283228,\n",
       "        -0.34613924, -0.35641265, -0.36299434, -0.36576839],\n",
       "       [-0.36576839, -0.36842395, -0.37389522, -0.38061409, -0.38691119,\n",
       "        -0.39161842, -0.39439763, -0.3956366 , -0.39599574],\n",
       "       [-0.39599574, -0.39623097, -0.3963089 , -0.39537147, -0.39274914,\n",
       "        -0.3884639 , -0.38340577, -0.3790569 , -0.37689018],\n",
       "       [-0.37689018, -0.37459382, -0.36903014, -0.36008325, -0.34812902,\n",
       "        -0.33443427, -0.32117438, -0.31097731, -0.3061669 ],\n",
       "       [-0.3061669 , -0.30122075, -0.28975173, -0.27242018, -0.25069573,\n",
       "        -0.22714825, -0.20529923, -0.18897717, -0.18139778],\n",
       "       [-0.18139778, -0.17367617, -0.15602138, -0.12990616, -0.09794528,\n",
       "        -0.06407356, -0.03322328, -0.01048169, -0.        ]])"
      ]
     },
     "execution_count": 17,
     "metadata": {},
     "output_type": "execute_result"
    }
   ],
   "source": [
    "beta"
   ]
  },
  {
   "cell_type": "code",
   "execution_count": 13,
   "metadata": {},
   "outputs": [
    {
     "data": {
      "text/plain": [
       "array([[1, 2, 3],\n",
       "       [4, 5, 6],\n",
       "       [7, 8, 9]])"
      ]
     },
     "execution_count": 13,
     "metadata": {},
     "output_type": "execute_result"
    }
   ],
   "source": [
    "sdaf = np.array([[1,2,3],[4,5,6],[7,8,9]])\n",
    "sdaf"
   ]
  },
  {
   "cell_type": "code",
   "execution_count": 15,
   "metadata": {},
   "outputs": [
    {
     "data": {
      "text/plain": [
       "array([3, 6, 9])"
      ]
     },
     "execution_count": 15,
     "metadata": {},
     "output_type": "execute_result"
    }
   ],
   "source": [
    "sdaf[:,-1]"
   ]
  },
  {
   "cell_type": "code",
   "execution_count": 16,
   "metadata": {},
   "outputs": [],
   "source": [
    "def change_element(a):\n",
    "    a[0][0] = 0"
   ]
  },
  {
   "cell_type": "code",
   "execution_count": 17,
   "metadata": {},
   "outputs": [],
   "source": [
    "change_element(sdaf)"
   ]
  },
  {
   "cell_type": "code",
   "execution_count": 18,
   "metadata": {},
   "outputs": [
    {
     "data": {
      "text/plain": [
       "array([[0, 2, 3],\n",
       "       [4, 5, 6],\n",
       "       [7, 8, 9]])"
      ]
     },
     "execution_count": 18,
     "metadata": {},
     "output_type": "execute_result"
    }
   ],
   "source": [
    "sdaf"
   ]
  },
  {
   "cell_type": "code",
   "execution_count": 19,
   "metadata": {},
   "outputs": [],
   "source": [
    "ww = func_dx_dxi(start,end,1,xi_p,xi_int,x_p)\n"
   ]
  },
  {
   "cell_type": "code",
   "execution_count": 20,
   "metadata": {
    "scrolled": true
   },
   "outputs": [
    {
     "data": {
      "text/plain": [
       "array([[-6.28318531, -6.19753358, -6.00766933, -5.74048568, -5.43264343,\n",
       "        -5.12594643, -4.86160067, -4.67478501, -4.59078737],\n",
       "       [-4.59078737, -4.50687702, -4.32087921, -4.05915145, -3.75761715,\n",
       "        -3.45722811, -3.19833825, -3.01538902, -2.93313275],\n",
       "       [-2.93313275, -2.85096377, -2.6688324 , -2.41256054, -2.11733419,\n",
       "        -1.8232531 , -1.56981913, -1.39073635, -1.31022145],\n",
       "       [-1.31022145, -1.22979384, -1.05152891, -0.80071294, -0.51179454,\n",
       "        -0.22402141,  0.02395666,  0.19917301,  0.27794653],\n",
       "       [ 0.27794653,  0.35663278,  0.53103127,  0.77639134,  1.05900178,\n",
       "         1.34046696,  1.58298914,  1.75433905,  1.8313712 ],\n",
       "       [ 1.8313712 ,  1.90831608,  2.07884813,  2.3187523 ,  2.59505479,\n",
       "         2.87021202,  3.1072783 ,  3.27476177,  3.35005255],\n",
       "       [ 3.35005255,  3.42525606,  3.59192167,  3.82636995,  4.09636449,\n",
       "         4.36521376,  4.59682414,  4.76044117,  4.83399059],\n",
       "       [ 4.83399059,  4.90745273,  5.07025189,  5.29924428,  5.56293086,\n",
       "         5.82547219,  6.05162667,  6.21137726,  6.28318531]])"
      ]
     },
     "execution_count": 20,
     "metadata": {},
     "output_type": "execute_result"
    }
   ],
   "source": [
    "xi_to_x(xi_int,start,end,0.7,x_p,xi_p,x_p0)"
   ]
  },
  {
   "cell_type": "code",
   "execution_count": 26,
   "metadata": {},
   "outputs": [
    {
     "data": {
      "text/plain": [
       "array([[-6.28318531, -6.20445542, -6.029648  , -5.78297893, -5.49778714,\n",
       "        -5.21259535, -4.96592628, -4.79111887, -4.71238898],\n",
       "       [-4.71238898, -4.63365909, -4.45885168, -4.21218261, -3.92699082,\n",
       "        -3.64179903, -3.39512996, -3.22032254, -3.14159265],\n",
       "       [-3.14159265, -3.06286277, -2.88805535, -2.64138628, -2.35619449,\n",
       "        -2.0710027 , -1.82433363, -1.64952621, -1.57079633],\n",
       "       [-1.57079633, -1.49206644, -1.31725902, -1.07058995, -0.78539816,\n",
       "        -0.50020637, -0.2535373 , -0.07872989,  0.        ],\n",
       "       [ 0.        ,  0.07872989,  0.2535373 ,  0.50020637,  0.78539816,\n",
       "         1.07058995,  1.31725902,  1.49206644,  1.57079633],\n",
       "       [ 1.57079633,  1.64952621,  1.82433363,  2.0710027 ,  2.35619449,\n",
       "         2.64138628,  2.88805535,  3.06286277,  3.14159265],\n",
       "       [ 3.14159265,  3.22032254,  3.39512996,  3.64179903,  3.92699082,\n",
       "         4.21218261,  4.45885168,  4.63365909,  4.71238898],\n",
       "       [ 4.71238898,  4.79111887,  4.96592628,  5.21259535,  5.49778714,\n",
       "         5.78297893,  6.029648  ,  6.20445542,  6.28318531]])"
      ]
     },
     "execution_count": 26,
     "metadata": {},
     "output_type": "execute_result"
    }
   ],
   "source": [
    "x"
   ]
  },
  {
   "cell_type": "code",
   "execution_count": 69,
   "metadata": {},
   "outputs": [],
   "source": [
    "def x_to_xi(x, a,b,t ,x_p,xi_p):\n",
    "    if x_p(t) == x_p(0):\n",
    "        return x\n",
    "    sqrt_delta = (a**2*b**2 - 2*a**2*b*x_p(t) + a**2*x_p(t)**2 - 2*a*b**2*x_p(t) - 2*a*b*x_p(t)**2 + 8*a*b*x_p(t)*xi_p \n",
    "               + 4*x*a*b*x_p(t) - 2*a*b*xi_p**2 - 4*x*a*b*xi_p - 2*a*x_p(t)*xi_p**2 - 4*x*a*x_p(t)*xi_p + 4*x*a*xi_p**2 \n",
    "               + b**2*x_p(t)**2 - 2*b*x_p(t)*xi_p**2 - 4*x*b*x_p(t)*xi_p + 4*x*b*xi_p**2 + 4*x*x_p(t)*xi_p**2 \n",
    "               + xi_p**4 - 4*x*xi_p**3)**(1/2)\n",
    "    minus_b= -a*b + a*x_p(t) + b*x_p(t) - xi_p**2\n",
    "    a_2 = 2*(x_p(t) - xi_p)\n",
    "    sol_1 = (minus_b - sqrt_delta)/a_2\n",
    "    return sol_1\n"
   ]
  },
  {
   "cell_type": "code",
   "execution_count": 70,
   "metadata": {},
   "outputs": [],
   "source": [
    "x = xi_to_x(xi_int,start,end,2*np.pi/0.3,x_p,xi_p,x_p0)\n",
    "xi_=x_to_xi(x,start,end,2*np.pi/ 0.3, x_p,xi_p)"
   ]
  },
  {
   "cell_type": "code",
   "execution_count": 71,
   "metadata": {},
   "outputs": [
    {
     "data": {
      "text/plain": [
       "array([[-12.,  -8., -12.,  -4.,  -0., -16.,  -8.,  -8.,  -8.],\n",
       "       [ -8.,  -0.,  -8.,  -0.,  -8.,  -4.,  -4.,  -0.,  -0.],\n",
       "       [ -0.,  -0.,  -0.,   4.,  -4.,  -4.,  -8.,   4.,  -0.],\n",
       "       [ -0.,  -4.,  -0.,  -0.,   4.,   4.,  -0.,  -0.,  -0.],\n",
       "       [ -0.,   4.,  -0.,  -0.,  -0.,  -0.,  -0.,   4.,  -0.],\n",
       "       [ -0.,  -0.,   4.,  -0.,   4.,  -0.,  12.,  -0.,   4.],\n",
       "       [  4.,  12.,  12.,   4.,   4.,   4.,  -0.,  -0.,   8.],\n",
       "       [  8.,   4.,   4.,   4.,  16.,   4.,   4.,  -0.,   4.]])"
      ]
     },
     "execution_count": 71,
     "metadata": {},
     "output_type": "execute_result"
    }
   ],
   "source": [
    "xi_"
   ]
  },
  {
   "cell_type": "code",
   "execution_count": 59,
   "metadata": {},
   "outputs": [
    {
     "data": {
      "text/plain": [
       "array([[ -5.71681469,  -1.79554458,  -5.970352  ,   1.78297893,\n",
       "          5.49778714, -10.78740465,  -3.03407372,  -3.20888113,\n",
       "         -3.28761102],\n",
       "       [ -3.28761102,   4.63365909,  -3.54114832,   4.21218261,\n",
       "         -4.07300918,  -0.35820097,  -0.60487004,   3.22032254,\n",
       "          3.14159265],\n",
       "       [  3.14159265,   3.06286277,   2.88805535,   6.64138628,\n",
       "         -1.64380551,  -1.9289973 ,  -6.17566637,   5.64952621,\n",
       "          1.57079633],\n",
       "       [  1.57079633,  -2.50793356,   1.31725902,   1.07058995,\n",
       "          4.78539816,   4.50020637,   0.2535373 ,   0.07872989,\n",
       "         -0.        ],\n",
       "       [ -0.        ,   3.92127011,  -0.2535373 ,  -0.50020637,\n",
       "         -0.78539816,  -1.07058995,  -1.31725902,   2.50793356,\n",
       "         -1.57079633],\n",
       "       [ -1.57079633,  -1.64952621,   2.17566637,  -2.0710027 ,\n",
       "          1.64380551,  -2.64138628,   9.11194465,  -3.06286277,\n",
       "          0.85840735],\n",
       "       [  0.85840735,   8.77967746,   8.60487004,   0.35820097,\n",
       "          0.07300918,  -0.21218261,  -4.45885168,  -4.63365909,\n",
       "          3.28761102],\n",
       "       [  3.28761102,  -0.79111887,  -0.96592628,  -1.21259535,\n",
       "         10.50221286,  -1.78297893,  -2.029648  ,  -6.20445542,\n",
       "         -2.28318531]])"
      ]
     },
     "execution_count": 59,
     "metadata": {},
     "output_type": "execute_result"
    }
   ],
   "source": [
    "xi_-xi_int"
   ]
  },
  {
   "cell_type": "code",
   "execution_count": 57,
   "metadata": {},
   "outputs": [
    {
     "data": {
      "text/plain": [
       "(-2, 4)"
      ]
     },
     "execution_count": 57,
     "metadata": {},
     "output_type": "execute_result"
    },
    {
     "data": {
      "image/png": "[encoded data removed]",
      "text/plain": [
       "<Figure size 432x288 with 1 Axes>"
      ]
     },
     "metadata": {
      "needs_background": "light"
     },
     "output_type": "display_data"
    }
   ],
   "source": [
    "for i in range(len(x)):\n",
    "    plt.scatter(x[i],np.zeros_like(x[i]))\n",
    "    plt.scatter(xi_[i],np.ones_like(xi_[i]))\n",
    "plt.ylim (-2,4)"
   ]
  },
  {
   "cell_type": "code",
   "execution_count": null,
   "metadata": {},
   "outputs": [],
   "source": []
  },
  {
   "cell_type": "code",
   "execution_count": null,
   "metadata": {},
   "outputs": [],
   "source": []
  }
 ],
 "metadata": {
  "kernelspec": {
   "display_name": "Python 3",
   "language": "python",
   "name": "python3"
  },
  "language_info": {
   "codemirror_mode": {
    "name": "ipython",
    "version": 3
   },
   "file_extension": ".py",
   "mimetype": "text/x-python",
   "name": "python",
   "nbconvert_exporter": "python",
   "pygments_lexer": "ipython3",
   "version": "3.7.1"
  }
 },
 "nbformat": 4,
 "nbformat_minor": 2
}

{
 "cells": [
  {
   "cell_type": "code",
   "execution_count": 1,
   "metadata": {},
   "outputs": [],
   "source": [
    "import numpy as np\n",
    "from matplotlib import pyplot as plt\n",
    "from ReferenceElement import *\n",
    "import os\n",
    "import imageio\n",
    "from dg_new_splitting import *"
   ]
  },
  {
   "cell_type": "code",
   "execution_count": 13,
   "metadata": {},
   "outputs": [],
   "source": [
    "def analytical_u(x,t):\n",
    "    return np.cos(x-t) + 1/2*np.sin(x+t)\n",
    "def analytical_p(x,t):\n",
    "    return np.sin(x-t) + 1/2*np.cos(x+t)\n",
    "def analytical_q(x,t):\n",
    "    return -np.sin(x-t)  + 1/2*np.cos(x+t)\n",
    "N = 8\n",
    "K = 8\n",
    "CF = 2.**(-7)\n",
    "start = 0.\n",
    "end = 2.*np.pi\n",
    "a1 = 1.\n",
    "a2 = -1.\n",
    "alpha = 0.\n",
    "h = (end-start)/K\n",
    "t = 0.\n",
    "\n",
    "reference_element = ReferenceElement(N)\n",
    "reference_interval = reference_element[0]\n",
    "M_inv = reference_element[1]*2/h\n",
    "M_inv_S = reference_element[2]*2/h"
   ]
  },
  {
   "cell_type": "code",
   "execution_count": 14,
   "metadata": {},
   "outputs": [
    {
     "name": "stdout",
     "output_type": "stream",
     "text": [
      "0.0003075386183559284\n"
     ]
    }
   ],
   "source": [
    "x = get_x_elements(start,end, K, reference_interval)\n",
    "dx_min = get_dx_min(x)\n",
    "dt = CF*dx_min\n",
    "print(dt)"
   ]
  },
  {
   "cell_type": "code",
   "execution_count": 15,
   "metadata": {},
   "outputs": [
    {
     "name": "stdout",
     "output_type": "stream",
     "text": [
      "26012\n"
     ]
    }
   ],
   "source": [
    "t = 0.\n",
    "t_target = 8.\n",
    "nt = int((t_target-t)/dt)\n",
    "u = analytical_u(x,t)\n",
    "p = analytical_p(x,t)\n",
    "q = analytical_q(x,t)\n",
    "print (nt)\n"
   ]
  },
  {
   "cell_type": "code",
   "execution_count": 16,
   "metadata": {},
   "outputs": [],
   "source": [
    "# plt.plot(x.flatten(), u.flatten(), label = 'u')\n",
    "# plt.plot(x.flatten(), p.flatten(), label = 'p')\n",
    "# plt.plot(x.flatten(), q.flatten(), label = 'q')\n",
    "# plt.legend()\n",
    "# plt.ylim(-1.5,1.5)"
   ]
  },
  {
   "cell_type": "code",
   "execution_count": 17,
   "metadata": {},
   "outputs": [],
   "source": [
    "# direc = \"results_2\"\n",
    "# if os.path.isdir(direc):\n",
    "#     print('Directory'+direc+'already exists')\n",
    "# else:\n",
    "#     os.makedirs(direc)\n",
    "# images = []"
   ]
  },
  {
   "cell_type": "code",
   "execution_count": 18,
   "metadata": {},
   "outputs": [],
   "source": [
    "for i in range(nt):\n",
    "    un = u.copy()\n",
    "    pn = p.copy()\n",
    "    qn = q.copy()\n",
    "    u = RK4_Step(dt, du_dt,un,pn,qn,K,N,t,M_inv,M_inv_S,)\n",
    "    p = RK4_Step(dt, dp_dt,pn,un,qn,K,N,t,M_inv,M_inv_S,False)\n",
    "    q = RK4_Step(dt, dq_dt,qn,un,pn,K,N,t,M_inv,M_inv_S,False)\n",
    "    t += dt\n",
    "#     if i%130 ==0:\n",
    "#         plt.figure(figsize=(11, 7), dpi=100)\n",
    "#         for i in range(len(u)):\n",
    "#             plt.plot(x[i],u[i])\n",
    "#         plt.plot(x_s,u_go_left(x_s,t),linestyle ='--', label = 'analytical')\n",
    "#         #plt.plot(x.flatten(), u.flatten(), label = 'u')\n",
    "#         #plt.plot(x.flatten(), analytical_u(x,t).flatten(), linestyle ='--')\n",
    "#         plt.ylim(-2,2)\n",
    "#         plt.title(str(np.round(t,3)))\n",
    "#         plt.legend()\n",
    "#         name = direc+\"/figure\"+str(np.round(t,3))+'.png'\n",
    "#         plt.savefig(name)\n",
    "#         images.append(imageio.imread(name))\n",
    "#         plt.close()\n",
    "# gifName = direc+'/movie.gif'\n",
    "# imageio.mimsave(gifName,images)"
   ]
  },
  {
   "cell_type": "code",
   "execution_count": 19,
   "metadata": {},
   "outputs": [
    {
     "name": "stdout",
     "output_type": "stream",
     "text": [
      "7.999694540669725\n"
     ]
    },
    {
     "data": {
      "text/plain": [
       "<matplotlib.legend.Legend at 0x21327d5c8d0>"
      ]
     },
     "execution_count": 19,
     "metadata": {},
     "output_type": "execute_result"
    },
    {
     "data": {
      "image/png": "[encoded data removed]",
      "text/plain": [
       "<Figure size 432x288 with 1 Axes>"
      ]
     },
     "metadata": {
      "needs_background": "light"
     },
     "output_type": "display_data"
    }
   ],
   "source": [
    "print(t)\n",
    "plt.plot(x.flatten(), u.flatten(), label = 'u')\n",
    "plt.plot(x.flatten(), analytical_u(x,t).flatten(), linestyle ='--')\n",
    "plt.legend()\n"
   ]
  },
  {
   "cell_type": "code",
   "execution_count": null,
   "metadata": {},
   "outputs": [],
   "source": []
  },
  {
   "cell_type": "code",
   "execution_count": 20,
   "metadata": {},
   "outputs": [
    {
     "data": {
      "text/plain": [
       "<matplotlib.legend.Legend at 0x21327dc7da0>"
      ]
     },
     "execution_count": 20,
     "metadata": {},
     "output_type": "execute_result"
    },
    {
     "data": {
      "image/png": "[encoded data removed]",
      "text/plain": [
       "<Figure size 432x288 with 1 Axes>"
      ]
     },
     "metadata": {
      "needs_background": "light"
     },
     "output_type": "display_data"
    }
   ],
   "source": [
    "plt.plot(x.flatten(), p.flatten(), label = 'p')\n",
    "plt.plot(x.flatten(), analytical_p(x,t).flatten(), linestyle ='--')\n",
    "plt.legend()\n"
   ]
  },
  {
   "cell_type": "code",
   "execution_count": 21,
   "metadata": {},
   "outputs": [
    {
     "data": {
      "text/plain": [
       "<matplotlib.legend.Legend at 0x21327e2f940>"
      ]
     },
     "execution_count": 21,
     "metadata": {},
     "output_type": "execute_result"
    },
    {
     "data": {
      "image/png": "[encoded data removed]",
      "text/plain": [
       "<Figure size 432x288 with 1 Axes>"
      ]
     },
     "metadata": {
      "needs_background": "light"
     },
     "output_type": "display_data"
    }
   ],
   "source": [
    "plt.plot(x.flatten(), q.flatten(), label = 'q')\n",
    "plt.plot(x.flatten(), analytical_q(x,t).flatten(), linestyle ='--')\n",
    "plt.legend()\n"
   ]
  },
  {
   "cell_type": "code",
   "execution_count": 22,
   "metadata": {},
   "outputs": [
    {
     "data": {
      "text/plain": [
       "7.999694540669725"
      ]
     },
     "execution_count": 22,
     "metadata": {},
     "output_type": "execute_result"
    }
   ],
   "source": [
    "t"
   ]
  },
  {
   "cell_type": "code",
   "execution_count": 23,
   "metadata": {},
   "outputs": [],
   "source": [
    "x_s = np.linspace(0,2*np.pi,1001)"
   ]
  },
  {
   "cell_type": "code",
   "execution_count": 24,
   "metadata": {},
   "outputs": [],
   "source": [
    "def u_go_left(x,t):\n",
    "    u = 1/2*np.sin(x+t)*np.heaviside(2*np.pi-x-t,1) + np.sin(x-t)*np.heaviside(x-t,1)\n",
    "    return u"
   ]
  },
  {
   "cell_type": "code",
   "execution_count": 25,
   "metadata": {},
   "outputs": [
    {
     "data": {
      "text/plain": [
       "[<matplotlib.lines.Line2D at 0x21327e9fe80>]"
      ]
     },
     "execution_count": 25,
     "metadata": {},
     "output_type": "execute_result"
    },
    {
     "data": {
      "image/png": "[encoded data removed]",
      "text/plain": [
       "<Figure size 432x288 with 1 Axes>"
      ]
     },
     "metadata": {
      "needs_background": "light"
     },
     "output_type": "display_data"
    }
   ],
   "source": [
    "plt.plot(x_s,u_go_left(x_s,0))"
   ]
  },
  {
   "cell_type": "code",
   "execution_count": null,
   "metadata": {},
   "outputs": [],
   "source": []
  },
  {
   "cell_type": "code",
   "execution_count": null,
   "metadata": {},
   "outputs": [],
   "source": []
  }
 ],
 "metadata": {
  "kernelspec": {
   "display_name": "Python 3",
   "language": "python",
   "name": "python3"
  },
  "language_info": {
   "codemirror_mode": {
    "name": "ipython",
    "version": 3
   },
   "file_extension": ".py",
   "mimetype": "text/x-python",
   "name": "python",
   "nbconvert_exporter": "python",
   "pygments_lexer": "ipython3",
   "version": "3.7.1"
  }
 },
 "nbformat": 4,
 "nbformat_minor": 2
}

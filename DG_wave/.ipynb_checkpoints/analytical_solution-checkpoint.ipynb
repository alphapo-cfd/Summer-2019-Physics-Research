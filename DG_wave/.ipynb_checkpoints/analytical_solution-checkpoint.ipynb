{
 "cells": [
  {
   "cell_type": "code",
   "execution_count": 1,
   "metadata": {},
   "outputs": [],
   "source": [
    "import numpy as np\n",
    "from matplotlib import pyplot,cm as plt,cm\n",
    "from scipy.interpolate import *\n",
    "from ReferenceElement import *\n",
    "import os\n",
    "import imageio\n",
    "from DG_functions_wave import *"
   ]
  },
  {
   "cell_type": "code",
   "execution_count": 5,
   "metadata": {},
   "outputs": [],
   "source": [
    "def analytical_solution(x,t):\n",
    "    return np.sin(2*np.pi*(x-t)) + 1/2*np.sin(2*np.pi*(x+t))"
   ]
  },
  {
   "cell_type": "code",
   "execution_count": 6,
   "metadata": {},
   "outputs": [],
   "source": [
    "x = np.linspace(0,1,101)"
   ]
  },
  {
   "cell_type": "code",
   "execution_count": 10,
   "metadata": {},
   "outputs": [
    {
     "data": {
      "text/plain": [
       "[<matplotlib.lines.Line2D at 0x21449c4af28>]"
      ]
     },
     "execution_count": 10,
     "metadata": {},
     "output_type": "execute_result"
    },
    {
     "data": {
      "image/png": "[encoded data removed]",
      "text/plain": [
       "<Figure size 432x288 with 1 Axes>"
      ]
     },
     "metadata": {
      "needs_background": "light"
     },
     "output_type": "display_data"
    }
   ],
   "source": [
    "plt.plot()"
   ]
  },
  {
   "cell_type": "code",
   "execution_count": null,
   "metadata": {},
   "outputs": [],
   "source": []
  },
  {
   "cell_type": "code",
   "execution_count": 12,
   "metadata": {},
   "outputs": [
    {
     "name": "stdout",
     "output_type": "stream",
     "text": [
      "Directoryanalyticalalready exists\n"
     ]
    }
   ],
   "source": [
    "direc = \"analytical\"\n",
    "if os.path.isdir(direc):\n",
    "    print('Directory'+direc+'already exists')\n",
    "else:\n",
    "    os.makedirs(direc)\n",
    "images = []\n",
    "t_interval = np.linspace(0,1,101,True)\n",
    "for t in t_interval:\n",
    "    plt.figure()\n",
    "    plt.ylim(-2,2)\n",
    "    plt.plot(x,analytical_solution(x,t))\n",
    "    name = direc+\"/figure\"+str(t)+'.png'\n",
    "    plt.savefig(name)\n",
    "    images.append(imageio.imread(name))\n",
    "    plt.close()\n",
    "gifName = direc+'/movie.gif'\n",
    "imageio.mimsave(gifName,images)"
   ]
  },
  {
   "cell_type": "code",
   "execution_count": null,
   "metadata": {},
   "outputs": [],
   "source": []
  }
 ],
 "metadata": {
  "kernelspec": {
   "display_name": "Python 3",
   "language": "python",
   "name": "python3"
  },
  "language_info": {
   "codemirror_mode": {
    "name": "ipython",
    "version": 3
   },
   "file_extension": ".py",
   "mimetype": "text/x-python",
   "name": "python",
   "nbconvert_exporter": "python",
   "pygments_lexer": "ipython3",
   "version": "3.7.1"
  }
 },
 "nbformat": 4,
 "nbformat_minor": 2
}

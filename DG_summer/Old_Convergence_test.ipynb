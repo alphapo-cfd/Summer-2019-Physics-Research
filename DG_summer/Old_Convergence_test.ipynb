{
 "cells": [
  {
   "cell_type": "code",
   "execution_count": 11,
   "metadata": {},
   "outputs": [],
   "source": [
    "import numpy as np\n",
    "import scipy.special\n",
    "import matplotlib.pyplot as plt\n",
    "from scipy.interpolate import*\n",
    "from ReferenceElement import *\n",
    "%matplotlib inline\n",
    "\n",
    "\n",
    "def RK4_Step(u, delta_t, F): #F is the derivative\n",
    "    w1 = F(u)\n",
    "    w2 = F(u + 0.5*delta_t*w1)\n",
    "    w3 = F(u + 0.5*delta_t*w2)\n",
    "    w4 = F(u + delta_t*w3)\n",
    "    next_u = u + delta_t/6*(w1+2*w2+2*w3+w4)\n",
    "    return next_u\n",
    "\n",
    "def get_x_int_element(k,N,K):\n",
    "    h = 1/K\n",
    "    ref_int = ReferenceElement\n",
    "    x_int = []\n",
    "    for r_i in ref_int:\n",
    "         x_int.append(k*h+(1+r_i)*h/2)\n",
    "    return np.array(x_int)\n",
    "def bc(x,t):\n",
    "    return np.exp(-2*np.cos(2*np.pi*(x-t)))\n",
    "    #return np.sin(2*np.pi*(x-t))\n",
    "\n",
    "def f_star_k(u,k,K,N,a,alpha): #flux at x_k\n",
    "    #a = 1; alpha = 1/2\n",
    "    u_braces = (u[(k-1)%K][N] + u[(k)%K][0])/2\n",
    "    u_brackets = u[(k-1)%K][N] - u[(k)%K][0]\n",
    "    f_star = a*u_braces + np.absolute(a)*(1-alpha)/2*u_brackets\n",
    "    return f_star \n",
    "\n",
    "def Evolve_DG(t_initial, t_final, Tstepper, CF, N,K, a, alpha, bc): # a = advection speed; alpha = some properties of the flux\n",
    "    ref_ele = ReferenceElement(N)\n",
    "    reference_interval = ref_ele[0]                             # r[-1,1] with optimal spacing\n",
    "    M_ref_inv = ref_ele[1]\n",
    "    M_ref_inv_S_ref = ref_ele[2]\n",
    "    h = 1/K                                                     # width of an element, working on x[0,1]\n",
    "    \n",
    "    x_elements = []                                             # mapping K reference interval r[-1,1] to x[0,1]\n",
    "    for k in range(K):\n",
    "        element =[]\n",
    "        for r_i in reference_interval:\n",
    "            element.append(k*h + (1 + r_i)*h/2)\n",
    "        x_elements.append(element)\n",
    "    x_elements = np.array(x_elements)    # grid points\n",
    "    u0_elements = bc(x_elements, t_initial)                     # array to be evolved\n",
    "\n",
    "    #calculate dxmin for CF\n",
    "    x_array = x_elements[0]\n",
    "    dx_array = []\n",
    "    for i in range(len(x_array)):\n",
    "        dx_array.append(np.absolute(x_array[i]-x_array[i-1]))\n",
    "    dx_min = np.min(dx_array)\n",
    "    \n",
    "    def f_star_k(u,k,K,N): #flux at x_k\n",
    "        u_braces = (u[(k-1)%K][N] + u[(k)%K][0])/2\n",
    "        u_brackets = u[(k-1)%K][N] - u[(k)%K][0]\n",
    "        f_star = a*u_braces + np.absolute(a)*(1-alpha)/2*u_brackets\n",
    "        return f_star \n",
    "\n",
    "    def du_dt_element_k(u,k, K, N):\n",
    "        first_term = - np.matmul( M_ref_inv_S_ref , u[k]) \n",
    "        second_term = M_ref_inv[:,N] * (u[(k)%K][N]- f_star_k(u,k+1,K,N))\n",
    "        third_term = -M_ref_inv[:,0] * (u[k%K][0]  - f_star_k(u,(k)%K,K,N))\n",
    "        du_dt = first_term + second_term + third_term\n",
    "        #print (second_term, third_term)\n",
    "        return du_dt\n",
    "\n",
    "    def DG_du_dt(u):\n",
    "        du_dt = []\n",
    "        for k in range(K):\n",
    "            du_dt.append(du_dt_element_k(u,k,K,N))\n",
    "        return np.array(du_dt)*2/h\n",
    "    \n",
    "    def Evolve(t_initial ,t_final, u, F, Tstepper, CF, info):\n",
    "         #spatial grid-spacing\n",
    "        delta_t = 1/2*CF*dx_min\n",
    "        while t_initial < t_final:\n",
    "            u = Tstepper(u, delta_t, F)\n",
    "            t_initial += delta_t\n",
    "        return t_initial, u \n",
    "    \n",
    "    def nice_plot(evolved):\n",
    "        nice_evolved = []\n",
    "        nice_x_elements = []\n",
    "        for i in range(len(evolved)):\n",
    "            nice_x_element = np.linspace(x_elements[i][0],x_elements[i][-1],11,True)\n",
    "            nice_evolved.append(lagrange(x_elements[i],evolved[i])(nice_x_element))\n",
    "            nice_x_elements.append(nice_x_element)\n",
    "        for i in range(len(nice_evolved)):\n",
    "            plt.plot(nice_x_elements[i],nice_evolved[i])\n",
    "            plt.scatter(x_elements[i],evolved[i])\n",
    "    after = Evolve(t_initial, t_final, u0_elements, DG_du_dt, Tstepper,CF, None)\n",
    "    #nice_plot(after[1])\n",
    "    return x_elements, after[1], after[0]"
   ]
  },
  {
   "cell_type": "code",
   "execution_count": 12,
   "metadata": {},
   "outputs": [
    {
     "data": {
      "text/plain": [
       "(array([[0.        , 0.00549988, 0.01795971, 0.03623039, 0.05868682,\n",
       "         0.08333333, 0.10797984, 0.13043628, 0.14870696, 0.16116679,\n",
       "         0.16666667],\n",
       "        [0.16666667, 0.17216655, 0.18462638, 0.20289706, 0.22535349,\n",
       "         0.25      , 0.27464651, 0.29710294, 0.31537362, 0.32783345,\n",
       "         0.33333333],\n",
       "        [0.33333333, 0.33883321, 0.35129304, 0.36956372, 0.39202016,\n",
       "         0.41666667, 0.44131318, 0.46376961, 0.48204029, 0.49450012,\n",
       "         0.5       ],\n",
       "        [0.5       , 0.50549988, 0.51795971, 0.53623039, 0.55868682,\n",
       "         0.58333333, 0.60797984, 0.63043628, 0.64870696, 0.66116679,\n",
       "         0.66666667],\n",
       "        [0.66666667, 0.67216655, 0.68462638, 0.70289706, 0.72535349,\n",
       "         0.75      , 0.77464651, 0.79710294, 0.81537362, 0.82783345,\n",
       "         0.83333333],\n",
       "        [0.83333333, 0.83883321, 0.85129304, 0.86956372, 0.89202016,\n",
       "         0.91666667, 0.94131318, 0.96376961, 0.98204029, 0.99450012,\n",
       "         1.        ]]),\n",
       " array([[0.17332678, 0.167827  , 0.15724769, 0.1459016 , 0.13778188,\n",
       "         0.13539444, 0.13957037, 0.14950349, 0.16258657, 0.1745507 ,\n",
       "         0.18072692],\n",
       "        [0.18072693, 0.18750431, 0.20531087, 0.23863284, 0.29453377,\n",
       "         0.38152676, 0.50574361, 0.66329598, 0.83225372, 0.97306813,\n",
       "         1.04269475],\n",
       "        [1.04269476, 1.11724764, 1.30565268, 1.63557381, 2.1376815 ,\n",
       "         2.81789086, 3.62357427, 4.43665877, 5.11883445, 5.57470187,\n",
       "         5.76944883],\n",
       "        [5.76944897, 5.95851689, 6.35939376, 6.85393416, 7.25784864,\n",
       "         7.38582751, 7.16484439, 6.68880697, 6.15056961, 5.72899437,\n",
       "         5.53320983],\n",
       "        [5.53320985, 5.33321057, 4.87066263, 4.190538  , 3.39519644,\n",
       "         2.62104812, 1.97728647, 1.50762259, 1.20155665, 1.02767726,\n",
       "         0.95905345],\n",
       "        [0.95905344, 0.89505672, 0.76590047, 0.61140622, 0.46779654,\n",
       "         0.35487535, 0.27597061, 0.22539484, 0.19535697, 0.17938179,\n",
       "         0.17332678]]),\n",
       " 0.0800060785027288)"
      ]
     },
     "execution_count": 12,
     "metadata": {},
     "output_type": "execute_result"
    }
   ],
   "source": [
    "Evolve_DG(0, 0.08, RK4_Step, 2**-7, 10, 6, 1, 1/2, bc)"
   ]
  },
  {
   "cell_type": "code",
   "execution_count": 16,
   "metadata": {},
   "outputs": [],
   "source": [
    "def error_at_point_x(t_initial, t_final, Tstepper, CF, N,K, a, alpha, bc,x):\n",
    "    results = Evolve_DG(t_initial, t_final, Tstepper, CF, N,K, a, alpha, bc)\n",
    "    k = 0\n",
    "    while x > results[0][k][-1]:\n",
    "        k += 1\n",
    "    point = lagrange(results[0][k],results[1][k])(x)\n",
    "    analytical = bc(x,results[2])\n",
    "    #error = np.abs(point-analytical)\n",
    "    error = np.abs((point-analytical)/analytical)\n",
    "    return np.log10(error),k"
   ]
  },
  {
   "cell_type": "code",
   "execution_count": 17,
   "metadata": {},
   "outputs": [
    {
     "data": {
      "text/plain": [
       "<matplotlib.legend.Legend at 0x18869cf63c8>"
      ]
     },
     "execution_count": 17,
     "metadata": {},
     "output_type": "execute_result"
    },
    {
     "data": {
      "image/png": "[encoded data removed]",
      "text/plain": [
       "<Figure size 432x288 with 1 Axes>"
      ]
     },
     "metadata": {
      "needs_background": "light"
     },
     "output_type": "display_data"
    }
   ],
   "source": [
    "\n",
    "K_range = [1,2,4,6,8,10]\n",
    "for N in [6,8,10]:\n",
    "    error_same_N = []\n",
    "    for K in K_range:\n",
    "        error = error_at_point_x(0,1,RK4_Step,2**-7,N,K,1,1/2,bc,0.5)\n",
    "        error_same_N.append(error[0])\n",
    "    plt.plot(np.log10(K_range),error_same_N, label = 'N = '+str(N))\n",
    "    plt.scatter(np.log10(K_range),error_same_N)\n",
    "plt.legend()"
   ]
  },
  {
   "cell_type": "code",
   "execution_count": 13,
   "metadata": {},
   "outputs": [
    {
     "data": {
      "text/plain": [
       "(-1.7775279527388315, 0)"
      ]
     },
     "execution_count": 13,
     "metadata": {},
     "output_type": "execute_result"
    }
   ],
   "source": [
    "error_at_point_x(0,1,RK4_Step,2**-7,4,4,1,1/2,bc,1/8)"
   ]
  },
  {
   "cell_type": "code",
   "execution_count": 3,
   "metadata": {},
   "outputs": [
    {
     "data": {
      "text/plain": [
       "1"
      ]
     },
     "execution_count": 3,
     "metadata": {},
     "output_type": "execute_result"
    }
   ],
   "source": [
    "np.min([1,2,3])"
   ]
  },
  {
   "cell_type": "code",
   "execution_count": 7,
   "metadata": {},
   "outputs": [],
   "source": [
    "a = np.array([-2,-0.5,-0.25,3,6])\n",
    "b = []\n",
    "for i in range(len(a)):\n",
    "    b.append(np.absolute(a[i]-a[i-1]))"
   ]
  },
  {
   "cell_type": "code",
   "execution_count": 8,
   "metadata": {},
   "outputs": [
    {
     "data": {
      "text/plain": [
       "[8.0, 1.5, 0.25, 3.25, 3.0]"
      ]
     },
     "execution_count": 8,
     "metadata": {},
     "output_type": "execute_result"
    }
   ],
   "source": [
    "b"
   ]
  },
  {
   "cell_type": "code",
   "execution_count": null,
   "metadata": {},
   "outputs": [],
   "source": []
  }
 ],
 "metadata": {
  "kernelspec": {
   "display_name": "Python 3",
   "language": "python",
   "name": "python3"
  },
  "language_info": {
   "codemirror_mode": {
    "name": "ipython",
    "version": 3
   },
   "file_extension": ".py",
   "mimetype": "text/x-python",
   "name": "python",
   "nbconvert_exporter": "python",
   "pygments_lexer": "ipython3",
   "version": "3.7.1"
  }
 },
 "nbformat": 4,
 "nbformat_minor": 2
}

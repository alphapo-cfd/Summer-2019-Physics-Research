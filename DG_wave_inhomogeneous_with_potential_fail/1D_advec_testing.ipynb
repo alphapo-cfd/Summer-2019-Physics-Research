{
 "cells": [
  {
   "cell_type": "code",
   "execution_count": 1,
   "metadata": {},
   "outputs": [],
   "source": [
    "import numpy as np\n",
    "from matplotlib import pyplot,cm as plt,cm\n",
    "from scipy.interpolate import *\n",
    "from ReferenceElement import *\n",
    "import os\n",
    "import imageio\n",
    "from DG_functions_wave_inhomogeneous_with_potential import *"
   ]
  },
  {
   "cell_type": "code",
   "execution_count": 96,
   "metadata": {},
   "outputs": [],
   "source": [
    "N = 30\n",
    "K = 1\n",
    "CF = 2.**(-7)\n",
    "start = 0.\n",
    "end = 1.\n",
    "a1 = 1.\n",
    "a2 = -1.\n",
    "alpha = 0.\n",
    "h = (end-start)/K"
   ]
  },
  {
   "cell_type": "code",
   "execution_count": 97,
   "metadata": {},
   "outputs": [],
   "source": [
    "reference_element = ReferenceElement(N)\n",
    "reference_interval = reference_element[0]\n",
    "M_inv = reference_element[1]*2/h\n",
    "M_inv_S = reference_element[2]*2/h"
   ]
  },
  {
   "cell_type": "code",
   "execution_count": 98,
   "metadata": {},
   "outputs": [],
   "source": [
    "def u_test(x,t,x0,stdev):\n",
    "    return 1/np.sqrt(2*np.pi*stdev**2)*np.exp(-(x-x0-t)**2/(2*stdev**2))\n",
    "    #return 0*x\n",
    "def delta_source(t):\n",
    "    return 0*t"
   ]
  },
  {
   "cell_type": "code",
   "execution_count": 88,
   "metadata": {},
   "outputs": [],
   "source": [
    "x = get_x_elements(start,end, K, reference_interval)\n",
    "dx_min = get_dx_min(x)"
   ]
  },
  {
   "cell_type": "code",
   "execution_count": 89,
   "metadata": {},
   "outputs": [
    {
     "name": "stdout",
     "output_type": "stream",
     "text": [
      "12989\n"
     ]
    }
   ],
   "source": [
    "t = 0.\n",
    "t_target = 0.4\n",
    "dt = CF*dx_min\n",
    "nt = int((t_target-t)/dt)\n",
    "print (nt)"
   ]
  },
  {
   "cell_type": "code",
   "execution_count": 90,
   "metadata": {},
   "outputs": [
    {
     "data": {
      "text/plain": [
       "[<matplotlib.lines.Line2D at 0x21bde6df3c8>]"
      ]
     },
     "execution_count": 90,
     "metadata": {},
     "output_type": "execute_result"
    },
    {
     "data": {
      "image/png": "[encoded data removed]",
      "text/plain": [
       "<Figure size 432x288 with 1 Axes>"
      ]
     },
     "metadata": {
      "needs_background": "light"
     },
     "output_type": "display_data"
    }
   ],
   "source": [
    "x0 = 0.5\n",
    "stdev= 0.05\n",
    "u = u_test(x,0,x0,stdev)\n",
    "plt.plot(x.flatten(), u.flatten())\n",
    "#u[0] = 0"
   ]
  },
  {
   "cell_type": "code",
   "execution_count": 91,
   "metadata": {},
   "outputs": [
    {
     "data": {
      "text/plain": [
       "array([1.53891973e-21, 3.37464135e-21, 2.07155369e-20, 3.27731034e-19,\n",
       "       1.18871667e-17, 8.49197714e-16, 9.97478374e-14, 1.57480699e-11,\n",
       "       2.69783462e-09, 4.03462480e-07, 4.26208158e-05, 2.61147855e-03,\n",
       "       7.79859194e-02, 9.83172405e-01, 4.70092629e+00, 7.97884561e+00,\n",
       "       4.70092629e+00, 9.83172405e-01, 7.79859194e-02, 2.61147855e-03,\n",
       "       4.26208158e-05, 4.03462480e-07, 2.69783462e-09, 1.57480699e-11,\n",
       "       9.97478374e-14, 8.49197714e-16, 1.18871667e-17, 3.27731034e-19,\n",
       "       2.07155369e-20, 3.37464135e-21, 1.53891973e-21])"
      ]
     },
     "execution_count": 91,
     "metadata": {},
     "output_type": "execute_result"
    }
   ],
   "source": [
    "u[0]"
   ]
  },
  {
   "cell_type": "code",
   "execution_count": 92,
   "metadata": {},
   "outputs": [],
   "source": [
    "# direc = \"1D_advec_test_4\"if os.path.isdir(direc):\n",
    "#     print('Directory'+direc+'already exists')\n",
    "# else:\n",
    "#     os.makedirs(direc)\n",
    "# images = []"
   ]
  },
  {
   "cell_type": "code",
   "execution_count": 93,
   "metadata": {},
   "outputs": [],
   "source": [
    "for n in range(nt):\n",
    "    u = RK4_Step(dt, DG_du_dt_radiative,u, K, N,t,a1,alpha, M_inv, M_inv_S, delta_source,v= None, potential = None)\n",
    "    t +=dt\n",
    "    \n",
    "    \"\"\"if n%500 ==0:\n",
    "        plt.figure(figsize=(11, 7), dpi=100)\n",
    "        for i in range(len(u)):\n",
    "            plt.plot(x[i],u[i],marker ='o')\n",
    "        plt.ylabel('u')\n",
    "        plt.title('t = '+str(np.round(t,3)))\n",
    "        plt.legend()\n",
    "        name = direc+\"/figure\"+str(np.round(t,3))+'.png'\n",
    "        plt.savefig(name)\n",
    "        images.append(imageio.imread(name))\n",
    "        plt.close()\n",
    "gifName = direc+'/movie.gif'\n",
    "imageio.mimsave(gifName,images)\"\"\""
   ]
  },
  {
   "cell_type": "code",
   "execution_count": 94,
   "metadata": {},
   "outputs": [
    {
     "data": {
      "image/png": "[encoded data removed]",
      "text/plain": [
       "<Figure size 432x288 with 1 Axes>"
      ]
     },
     "metadata": {
      "needs_background": "light"
     },
     "output_type": "display_data"
    }
   ],
   "source": [
    "u_sol = u_test(x,t,x0,stdev)\n",
    "for i in range(len(u)):\n",
    "    plt.plot(x[i],u[i])\n",
    "    plt.plot(x[i],u_sol[i],color = 'red', linestyle ='--')"
   ]
  },
  {
   "cell_type": "code",
   "execution_count": 95,
   "metadata": {},
   "outputs": [
    {
     "data": {
      "image/png": "[encoded data removed]",
      "text/plain": [
       "<Figure size 432x288 with 1 Axes>"
      ]
     },
     "metadata": {
      "needs_background": "light"
     },
     "output_type": "display_data"
    }
   ],
   "source": [
    "for i in range(len(u)):\n",
    "    plt.plot(x[i],u[i]-u_sol[i])"
   ]
  },
  {
   "cell_type": "code",
   "execution_count": null,
   "metadata": {},
   "outputs": [],
   "source": []
  },
  {
   "cell_type": "code",
   "execution_count": null,
   "metadata": {},
   "outputs": [],
   "source": []
  }
 ],
 "metadata": {
  "kernelspec": {
   "display_name": "Python 3",
   "language": "python",
   "name": "python3"
  },
  "language_info": {
   "codemirror_mode": {
    "name": "ipython",
    "version": 3
   },
   "file_extension": ".py",
   "mimetype": "text/x-python",
   "name": "python",
   "nbconvert_exporter": "python",
   "pygments_lexer": "ipython3",
   "version": "3.7.1"
  }
 },
 "nbformat": 4,
 "nbformat_minor": 2
}

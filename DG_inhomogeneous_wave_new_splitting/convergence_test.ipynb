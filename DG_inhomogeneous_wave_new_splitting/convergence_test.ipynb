{
 "cells": [
  {
   "cell_type": "code",
   "execution_count": 1,
   "metadata": {},
   "outputs": [],
   "source": [
    "import numpy as np\n",
    "from matplotlib import pyplot as plt\n",
    "from ReferenceElement import *\n",
    "import os\n",
    "import imageio\n",
    "from dg_new_splitting_inhomogeneous import *\n",
    "%matplotlib inline"
   ]
  },
  {
   "cell_type": "code",
   "execution_count": 10,
   "metadata": {},
   "outputs": [],
   "source": [
    "def analytical_u(x,xp,t):\n",
    "    for i in range(len(x)):\n",
    "        if np.round(x[i][-1],8) == np.round(xp,8):\n",
    "            k = i\n",
    "            pass\n",
    "    u_left  = [np.cos(x[i]+t) for i in range(k+1)]\n",
    "    u_right = [np.sin(x[i]-t) for i in range(k+1,len(x))]\n",
    "    u = np.array(u_left+u_right)\n",
    "    return u\n",
    "        \n",
    "def analytical_p(x,xp,t):\n",
    "    for i in range(len(x)):\n",
    "        if np.round(x[i][-1],8) == np.round(xp,8):\n",
    "            k = i\n",
    "            break\n",
    "    p_left  = [-np.sin(x[i]+t) for i in range(k+1)]\n",
    "    p_right = [-np.cos(x[i]-t) for i in range(k+1,len(x))]\n",
    "    p = np.array(p_left+p_right)\n",
    "    return p\n",
    "    \n",
    "def analytical_q(x,xp,t):\n",
    "    for i in range(len(x)):\n",
    "        if np.round(x[i][-1],8) == np.round(xp,8):\n",
    "            k = i\n",
    "            break\n",
    "    q_left  = [-np.sin(x[i]+t) for i in range(k+1)]\n",
    "    q_right = [np.cos(x[i]-t) for i in range(k+1,len(x))]\n",
    "    q = np.array(q_left+q_right)\n",
    "    return q"
   ]
  },
  {
   "cell_type": "code",
   "execution_count": 11,
   "metadata": {},
   "outputs": [],
   "source": [
    "xp = 0.\n",
    "def source_minus_A(t):\n",
    "        return -np.cos(xp-t) - np.sin(xp+t)\n",
    "def source_D_dot(t):\n",
    "    return  np.cos(xp-t) - np.sin(xp+t)\n",
    "x_test_point = np.pi/2"
   ]
  },
  {
   "cell_type": "code",
   "execution_count": 12,
   "metadata": {},
   "outputs": [
    {
     "ename": "KeyboardInterrupt",
     "evalue": "",
     "output_type": "error",
     "traceback": [
      "\u001b[1;31m---------------------------------------------------------------------------\u001b[0m",
      "\u001b[1;31mKeyboardInterrupt\u001b[0m                         Traceback (most recent call last)",
      "\u001b[1;32m<ipython-input-12-92c8e429d398>\u001b[0m in \u001b[0;36m<module>\u001b[1;34m\u001b[0m\n\u001b[0;32m     41\u001b[0m             \u001b[0mu\u001b[0m \u001b[1;33m=\u001b[0m \u001b[0mRK4_Step\u001b[0m\u001b[1;33m(\u001b[0m\u001b[0mdt\u001b[0m\u001b[1;33m,\u001b[0m \u001b[0mdu_dt\u001b[0m\u001b[1;33m,\u001b[0m\u001b[0mun\u001b[0m\u001b[1;33m,\u001b[0m\u001b[0mpn\u001b[0m\u001b[1;33m,\u001b[0m\u001b[0mqn\u001b[0m\u001b[1;33m,\u001b[0m\u001b[0mK\u001b[0m\u001b[1;33m,\u001b[0m\u001b[0mN\u001b[0m\u001b[1;33m,\u001b[0m\u001b[0mt\u001b[0m\u001b[1;33m,\u001b[0m\u001b[0mM_inv\u001b[0m\u001b[1;33m,\u001b[0m\u001b[0mM_inv_S\u001b[0m\u001b[1;33m,\u001b[0m\u001b[1;32mFalse\u001b[0m\u001b[1;33m)\u001b[0m\u001b[1;33m\u001b[0m\u001b[1;33m\u001b[0m\u001b[0m\n\u001b[0;32m     42\u001b[0m             \u001b[0mp\u001b[0m \u001b[1;33m=\u001b[0m \u001b[0mRK4_Step\u001b[0m\u001b[1;33m(\u001b[0m\u001b[0mdt\u001b[0m\u001b[1;33m,\u001b[0m \u001b[0mdp_dt\u001b[0m\u001b[1;33m,\u001b[0m\u001b[0mpn\u001b[0m\u001b[1;33m,\u001b[0m\u001b[0mun\u001b[0m\u001b[1;33m,\u001b[0m\u001b[0mqn\u001b[0m\u001b[1;33m,\u001b[0m\u001b[0mK\u001b[0m\u001b[1;33m,\u001b[0m\u001b[0mN\u001b[0m\u001b[1;33m,\u001b[0m\u001b[0mt\u001b[0m\u001b[1;33m,\u001b[0m\u001b[0mM_inv\u001b[0m\u001b[1;33m,\u001b[0m\u001b[0mM_inv_S\u001b[0m\u001b[1;33m,\u001b[0m\u001b[1;32mTrue\u001b[0m\u001b[1;33m,\u001b[0m\u001b[0msource_minus_A\u001b[0m\u001b[1;33m,\u001b[0m \u001b[0msource_D_dot\u001b[0m\u001b[1;33m,\u001b[0m\u001b[0mk_xp\u001b[0m\u001b[1;33m)\u001b[0m\u001b[1;31m#,potential_term)\u001b[0m\u001b[1;33m\u001b[0m\u001b[1;33m\u001b[0m\u001b[0m\n\u001b[1;32m---> 43\u001b[1;33m             \u001b[0mq\u001b[0m \u001b[1;33m=\u001b[0m \u001b[0mRK4_Step\u001b[0m\u001b[1;33m(\u001b[0m\u001b[0mdt\u001b[0m\u001b[1;33m,\u001b[0m \u001b[0mdq_dt\u001b[0m\u001b[1;33m,\u001b[0m\u001b[0mqn\u001b[0m\u001b[1;33m,\u001b[0m\u001b[0mun\u001b[0m\u001b[1;33m,\u001b[0m\u001b[0mpn\u001b[0m\u001b[1;33m,\u001b[0m\u001b[0mK\u001b[0m\u001b[1;33m,\u001b[0m\u001b[0mN\u001b[0m\u001b[1;33m,\u001b[0m\u001b[0mt\u001b[0m\u001b[1;33m,\u001b[0m\u001b[0mM_inv\u001b[0m\u001b[1;33m,\u001b[0m\u001b[0mM_inv_S\u001b[0m\u001b[1;33m,\u001b[0m\u001b[1;32mTrue\u001b[0m\u001b[1;33m,\u001b[0m\u001b[0msource_minus_A\u001b[0m\u001b[1;33m,\u001b[0m \u001b[0msource_D_dot\u001b[0m\u001b[1;33m,\u001b[0m\u001b[0mk_xp\u001b[0m\u001b[1;33m)\u001b[0m\u001b[1;33m\u001b[0m\u001b[1;33m\u001b[0m\u001b[0m\n\u001b[0m\u001b[0;32m     44\u001b[0m             \u001b[0mt\u001b[0m \u001b[1;33m+=\u001b[0m \u001b[0mdt\u001b[0m\u001b[1;33m\u001b[0m\u001b[1;33m\u001b[0m\u001b[0m\n\u001b[0;32m     45\u001b[0m \u001b[1;33m\u001b[0m\u001b[0m\n",
      "\u001b[1;32m~\\GitHub\\Summer 2019 Physics Research\\DG_inhomogeneous_wave_new_splitting\\dg_new_splitting_inhomogeneous.py\u001b[0m in \u001b[0;36mRK4_Step\u001b[1;34m(dt, F, u, p, q, K, N, t, M_inv, M_inv_S, radiative, delta_source_1, delta_source_2, k_xp, potential)\u001b[0m\n\u001b[0;32m    103\u001b[0m     \u001b[0mw1\u001b[0m \u001b[1;33m=\u001b[0m \u001b[0mF\u001b[0m\u001b[1;33m(\u001b[0m\u001b[0mu\u001b[0m            \u001b[1;33m,\u001b[0m\u001b[0mp\u001b[0m\u001b[1;33m,\u001b[0m\u001b[0mq\u001b[0m\u001b[1;33m,\u001b[0m \u001b[0mK\u001b[0m\u001b[1;33m,\u001b[0m \u001b[0mN\u001b[0m\u001b[1;33m,\u001b[0m \u001b[0mt\u001b[0m         \u001b[1;33m,\u001b[0m \u001b[0mM_inv\u001b[0m\u001b[1;33m,\u001b[0m \u001b[0mM_inv_S\u001b[0m\u001b[1;33m,\u001b[0m \u001b[0mradiative\u001b[0m\u001b[1;33m,\u001b[0m\u001b[0mdelta_source_1\u001b[0m\u001b[1;33m,\u001b[0m \u001b[0mdelta_source_2\u001b[0m\u001b[1;33m,\u001b[0m\u001b[0mk_xp\u001b[0m\u001b[1;33m,\u001b[0m\u001b[0mpotential\u001b[0m\u001b[1;33m)\u001b[0m\u001b[1;33m\u001b[0m\u001b[1;33m\u001b[0m\u001b[0m\n\u001b[0;32m    104\u001b[0m     \u001b[0mw2\u001b[0m \u001b[1;33m=\u001b[0m \u001b[0mF\u001b[0m\u001b[1;33m(\u001b[0m\u001b[0mu\u001b[0m \u001b[1;33m+\u001b[0m \u001b[1;36m0.5\u001b[0m\u001b[1;33m*\u001b[0m\u001b[0mdt\u001b[0m\u001b[1;33m*\u001b[0m\u001b[0mw1\u001b[0m\u001b[1;33m,\u001b[0m\u001b[0mp\u001b[0m\u001b[1;33m,\u001b[0m\u001b[0mq\u001b[0m\u001b[1;33m,\u001b[0m \u001b[0mK\u001b[0m\u001b[1;33m,\u001b[0m \u001b[0mN\u001b[0m\u001b[1;33m,\u001b[0m \u001b[0mt\u001b[0m \u001b[1;33m+\u001b[0m \u001b[1;36m0.5\u001b[0m\u001b[1;33m*\u001b[0m\u001b[0mdt\u001b[0m\u001b[1;33m,\u001b[0m \u001b[0mM_inv\u001b[0m\u001b[1;33m,\u001b[0m \u001b[0mM_inv_S\u001b[0m\u001b[1;33m,\u001b[0m \u001b[0mradiative\u001b[0m\u001b[1;33m,\u001b[0m\u001b[0mdelta_source_1\u001b[0m\u001b[1;33m,\u001b[0m \u001b[0mdelta_source_2\u001b[0m\u001b[1;33m,\u001b[0m\u001b[0mk_xp\u001b[0m\u001b[1;33m,\u001b[0m\u001b[0mpotential\u001b[0m\u001b[1;33m)\u001b[0m\u001b[1;33m\u001b[0m\u001b[1;33m\u001b[0m\u001b[0m\n\u001b[1;32m--> 105\u001b[1;33m     \u001b[0mw3\u001b[0m \u001b[1;33m=\u001b[0m \u001b[0mF\u001b[0m\u001b[1;33m(\u001b[0m\u001b[0mu\u001b[0m \u001b[1;33m+\u001b[0m \u001b[1;36m0.5\u001b[0m\u001b[1;33m*\u001b[0m\u001b[0mdt\u001b[0m\u001b[1;33m*\u001b[0m\u001b[0mw2\u001b[0m\u001b[1;33m,\u001b[0m\u001b[0mp\u001b[0m\u001b[1;33m,\u001b[0m\u001b[0mq\u001b[0m\u001b[1;33m,\u001b[0m \u001b[0mK\u001b[0m\u001b[1;33m,\u001b[0m \u001b[0mN\u001b[0m\u001b[1;33m,\u001b[0m \u001b[0mt\u001b[0m \u001b[1;33m+\u001b[0m \u001b[1;36m0.5\u001b[0m\u001b[1;33m*\u001b[0m\u001b[0mdt\u001b[0m\u001b[1;33m,\u001b[0m \u001b[0mM_inv\u001b[0m\u001b[1;33m,\u001b[0m \u001b[0mM_inv_S\u001b[0m\u001b[1;33m,\u001b[0m \u001b[0mradiative\u001b[0m\u001b[1;33m,\u001b[0m\u001b[0mdelta_source_1\u001b[0m\u001b[1;33m,\u001b[0m \u001b[0mdelta_source_2\u001b[0m\u001b[1;33m,\u001b[0m\u001b[0mk_xp\u001b[0m\u001b[1;33m,\u001b[0m\u001b[0mpotential\u001b[0m\u001b[1;33m)\u001b[0m\u001b[1;33m\u001b[0m\u001b[1;33m\u001b[0m\u001b[0m\n\u001b[0m\u001b[0;32m    106\u001b[0m     \u001b[0mw4\u001b[0m \u001b[1;33m=\u001b[0m \u001b[0mF\u001b[0m\u001b[1;33m(\u001b[0m\u001b[0mu\u001b[0m \u001b[1;33m+\u001b[0m \u001b[0mdt\u001b[0m\u001b[1;33m*\u001b[0m\u001b[0mw3\u001b[0m    \u001b[1;33m,\u001b[0m\u001b[0mp\u001b[0m\u001b[1;33m,\u001b[0m\u001b[0mq\u001b[0m\u001b[1;33m,\u001b[0m \u001b[0mK\u001b[0m\u001b[1;33m,\u001b[0m \u001b[0mN\u001b[0m\u001b[1;33m,\u001b[0m \u001b[0mt\u001b[0m \u001b[1;33m+\u001b[0m \u001b[0mdt\u001b[0m    \u001b[1;33m,\u001b[0m \u001b[0mM_inv\u001b[0m\u001b[1;33m,\u001b[0m \u001b[0mM_inv_S\u001b[0m\u001b[1;33m,\u001b[0m \u001b[0mradiative\u001b[0m\u001b[1;33m,\u001b[0m\u001b[0mdelta_source_1\u001b[0m\u001b[1;33m,\u001b[0m \u001b[0mdelta_source_2\u001b[0m\u001b[1;33m,\u001b[0m\u001b[0mk_xp\u001b[0m\u001b[1;33m,\u001b[0m\u001b[0mpotential\u001b[0m\u001b[1;33m)\u001b[0m\u001b[1;33m\u001b[0m\u001b[1;33m\u001b[0m\u001b[0m\n\u001b[0;32m    107\u001b[0m     \u001b[0mnext_u\u001b[0m \u001b[1;33m=\u001b[0m \u001b[0mu\u001b[0m \u001b[1;33m+\u001b[0m \u001b[0mdt\u001b[0m\u001b[1;33m/\u001b[0m\u001b[1;36m6\u001b[0m\u001b[1;33m*\u001b[0m\u001b[1;33m(\u001b[0m\u001b[0mw1\u001b[0m\u001b[1;33m+\u001b[0m\u001b[1;36m2\u001b[0m\u001b[1;33m*\u001b[0m\u001b[0mw2\u001b[0m\u001b[1;33m+\u001b[0m\u001b[1;36m2\u001b[0m\u001b[1;33m*\u001b[0m\u001b[0mw3\u001b[0m\u001b[1;33m+\u001b[0m\u001b[0mw4\u001b[0m\u001b[1;33m)\u001b[0m\u001b[1;33m\u001b[0m\u001b[1;33m\u001b[0m\u001b[0m\n",
      "\u001b[1;32m~\\GitHub\\Summer 2019 Physics Research\\DG_inhomogeneous_wave_new_splitting\\dg_new_splitting_inhomogeneous.py\u001b[0m in \u001b[0;36mdq_dt\u001b[1;34m(q, u, p, K, N, t, M_inv, M_inv_S, radiative, delta_source_1, delta_source_2, k_xp, potential)\u001b[0m\n\u001b[0;32m     72\u001b[0m     \u001b[0mdp_dx\u001b[0m \u001b[1;33m=\u001b[0m \u001b[0mnp\u001b[0m\u001b[1;33m.\u001b[0m\u001b[0mempty_like\u001b[0m\u001b[1;33m(\u001b[0m\u001b[0mp\u001b[0m\u001b[1;33m)\u001b[0m\u001b[1;33m\u001b[0m\u001b[1;33m\u001b[0m\u001b[0m\n\u001b[0;32m     73\u001b[0m     \u001b[1;32mfor\u001b[0m \u001b[0mk\u001b[0m \u001b[1;32min\u001b[0m \u001b[0mrange\u001b[0m\u001b[1;33m(\u001b[0m\u001b[0mK\u001b[0m\u001b[1;33m)\u001b[0m\u001b[1;33m:\u001b[0m\u001b[1;33m\u001b[0m\u001b[1;33m\u001b[0m\u001b[0m\n\u001b[1;32m---> 74\u001b[1;33m         \u001b[0mdp_dx\u001b[0m\u001b[1;33m[\u001b[0m\u001b[0mk\u001b[0m\u001b[1;33m]\u001b[0m \u001b[1;33m=\u001b[0m \u001b[0mdp_dx_element_k\u001b[0m\u001b[1;33m(\u001b[0m\u001b[0mp\u001b[0m\u001b[1;33m,\u001b[0m\u001b[0mq\u001b[0m\u001b[1;33m,\u001b[0m\u001b[0mk\u001b[0m\u001b[1;33m,\u001b[0m\u001b[0mK\u001b[0m\u001b[1;33m,\u001b[0m\u001b[0mN\u001b[0m\u001b[1;33m,\u001b[0m\u001b[0mt\u001b[0m\u001b[1;33m,\u001b[0m\u001b[0mM_inv\u001b[0m\u001b[1;33m,\u001b[0m\u001b[0mM_inv_S\u001b[0m\u001b[1;33m,\u001b[0m \u001b[0mradiative\u001b[0m\u001b[1;33m,\u001b[0m\u001b[0mdelta_source_1\u001b[0m\u001b[1;33m,\u001b[0m\u001b[0mdelta_source_2\u001b[0m\u001b[1;33m,\u001b[0m\u001b[0mk_xp\u001b[0m\u001b[1;33m)\u001b[0m\u001b[1;33m\u001b[0m\u001b[1;33m\u001b[0m\u001b[0m\n\u001b[0m\u001b[0;32m     75\u001b[0m     \u001b[1;32mreturn\u001b[0m \u001b[0mdp_dx\u001b[0m\u001b[1;33m\u001b[0m\u001b[1;33m\u001b[0m\u001b[0m\n\u001b[0;32m     76\u001b[0m \u001b[1;32mdef\u001b[0m \u001b[0mdq_dx_element_k\u001b[0m\u001b[1;33m(\u001b[0m\u001b[0mp\u001b[0m\u001b[1;33m,\u001b[0m\u001b[0mq\u001b[0m\u001b[1;33m,\u001b[0m\u001b[0mk\u001b[0m\u001b[1;33m,\u001b[0m\u001b[0mK\u001b[0m\u001b[1;33m,\u001b[0m\u001b[0mN\u001b[0m\u001b[1;33m,\u001b[0m\u001b[0mt\u001b[0m\u001b[1;33m,\u001b[0m\u001b[0mM_inv\u001b[0m\u001b[1;33m,\u001b[0m\u001b[0mM_inv_S\u001b[0m\u001b[1;33m,\u001b[0m\u001b[0mradiative\u001b[0m\u001b[1;33m,\u001b[0m\u001b[0mdelta_source_1\u001b[0m\u001b[1;33m,\u001b[0m\u001b[0mdelta_source_2\u001b[0m\u001b[1;33m,\u001b[0m\u001b[0mk_xp\u001b[0m\u001b[1;33m)\u001b[0m\u001b[1;33m:\u001b[0m\u001b[1;33m\u001b[0m\u001b[1;33m\u001b[0m\u001b[0m\n",
      "\u001b[1;32m~\\GitHub\\Summer 2019 Physics Research\\DG_inhomogeneous_wave_new_splitting\\dg_new_splitting_inhomogeneous.py\u001b[0m in \u001b[0;36mdp_dx_element_k\u001b[1;34m(p, q, k, K, N, t, M_inv, M_inv_S, radiative, delta_source_1, delta_source_2, k_xp)\u001b[0m\n\u001b[0;32m     58\u001b[0m \u001b[1;33m\u001b[0m\u001b[0m\n\u001b[0;32m     59\u001b[0m \u001b[1;32mdef\u001b[0m \u001b[0mdp_dx_element_k\u001b[0m\u001b[1;33m(\u001b[0m\u001b[0mp\u001b[0m\u001b[1;33m,\u001b[0m\u001b[0mq\u001b[0m\u001b[1;33m,\u001b[0m\u001b[0mk\u001b[0m\u001b[1;33m,\u001b[0m\u001b[0mK\u001b[0m\u001b[1;33m,\u001b[0m\u001b[0mN\u001b[0m\u001b[1;33m,\u001b[0m\u001b[0mt\u001b[0m\u001b[1;33m,\u001b[0m\u001b[0mM_inv\u001b[0m\u001b[1;33m,\u001b[0m\u001b[0mM_inv_S\u001b[0m\u001b[1;33m,\u001b[0m\u001b[0mradiative\u001b[0m\u001b[1;33m,\u001b[0m\u001b[0mdelta_source_1\u001b[0m\u001b[1;33m,\u001b[0m\u001b[0mdelta_source_2\u001b[0m\u001b[1;33m,\u001b[0m\u001b[0mk_xp\u001b[0m\u001b[1;33m)\u001b[0m\u001b[1;33m:\u001b[0m\u001b[1;33m\u001b[0m\u001b[1;33m\u001b[0m\u001b[0m\n\u001b[1;32m---> 60\u001b[1;33m     \u001b[0mmain_d_dx\u001b[0m   \u001b[1;33m=\u001b[0m \u001b[0mnp\u001b[0m\u001b[1;33m.\u001b[0m\u001b[0mmatmul\u001b[0m\u001b[1;33m(\u001b[0m\u001b[0mM_inv_S\u001b[0m\u001b[1;33m,\u001b[0m\u001b[0mp\u001b[0m\u001b[1;33m[\u001b[0m\u001b[0mk\u001b[0m\u001b[1;33m]\u001b[0m\u001b[1;33m)\u001b[0m\u001b[1;33m\u001b[0m\u001b[1;33m\u001b[0m\u001b[0m\n\u001b[0m\u001b[0;32m     61\u001b[0m     \u001b[0mright_flux\u001b[0m  \u001b[1;33m=\u001b[0m\u001b[1;33m-\u001b[0m\u001b[0mM_inv\u001b[0m\u001b[1;33m[\u001b[0m\u001b[1;33m:\u001b[0m\u001b[1;33m,\u001b[0m\u001b[0mN\u001b[0m\u001b[1;33m]\u001b[0m \u001b[1;33m*\u001b[0m \u001b[1;33m(\u001b[0m\u001b[0mp\u001b[0m\u001b[1;33m[\u001b[0m\u001b[0mk\u001b[0m\u001b[1;33m]\u001b[0m\u001b[1;33m[\u001b[0m\u001b[0mN\u001b[0m\u001b[1;33m]\u001b[0m  \u001b[1;33m-\u001b[0m \u001b[0mnumerical_flux_p\u001b[0m\u001b[1;33m(\u001b[0m\u001b[0mp\u001b[0m\u001b[1;33m,\u001b[0m\u001b[0mq\u001b[0m\u001b[1;33m,\u001b[0m\u001b[0mk\u001b[0m\u001b[1;33m+\u001b[0m\u001b[1;36m1\u001b[0m\u001b[1;33m,\u001b[0m\u001b[0mK\u001b[0m\u001b[1;33m,\u001b[0m\u001b[0mN\u001b[0m\u001b[1;33m,\u001b[0m\u001b[0mt\u001b[0m\u001b[1;33m,\u001b[0m\u001b[0mradiative\u001b[0m\u001b[1;33m)\u001b[0m\u001b[1;33m)\u001b[0m \u001b[1;31m#flux on the right at x_{k+1}\u001b[0m\u001b[1;33m\u001b[0m\u001b[1;33m\u001b[0m\u001b[0m\n\u001b[0;32m     62\u001b[0m     \u001b[0mleft_flux\u001b[0m   \u001b[1;33m=\u001b[0m \u001b[0mM_inv\u001b[0m\u001b[1;33m[\u001b[0m\u001b[1;33m:\u001b[0m\u001b[1;33m,\u001b[0m\u001b[1;36m0\u001b[0m\u001b[1;33m]\u001b[0m \u001b[1;33m*\u001b[0m \u001b[1;33m(\u001b[0m\u001b[0mp\u001b[0m\u001b[1;33m[\u001b[0m\u001b[0mk\u001b[0m\u001b[1;33m]\u001b[0m\u001b[1;33m[\u001b[0m\u001b[1;36m0\u001b[0m\u001b[1;33m]\u001b[0m  \u001b[1;33m-\u001b[0m \u001b[0mnumerical_flux_p\u001b[0m\u001b[1;33m(\u001b[0m\u001b[0mp\u001b[0m\u001b[1;33m,\u001b[0m\u001b[0mq\u001b[0m\u001b[1;33m,\u001b[0m\u001b[0mk\u001b[0m  \u001b[1;33m,\u001b[0m\u001b[0mK\u001b[0m\u001b[1;33m,\u001b[0m\u001b[0mN\u001b[0m\u001b[1;33m,\u001b[0m\u001b[0mt\u001b[0m\u001b[1;33m,\u001b[0m\u001b[0mradiative\u001b[0m\u001b[1;33m)\u001b[0m\u001b[1;33m)\u001b[0m \u001b[1;31m#flux on the left  at x_{k}\u001b[0m\u001b[1;33m\u001b[0m\u001b[1;33m\u001b[0m\u001b[0m\n",
      "\u001b[1;31mKeyboardInterrupt\u001b[0m: "
     ]
    }
   ],
   "source": [
    "K_range = np.arange(4,25,2)\n",
    "N_range = np.arange(2,13,2)\n",
    "error = []\n",
    "for N in N_range:\n",
    "    error_same_N = []\n",
    "    for K in K_range:\n",
    "        CF = 2.**(-7)\n",
    "        start = 0.\n",
    "        end = 2.*np.pi\n",
    "        a1 = 1.\n",
    "        a2 = -1.\n",
    "        alpha = 0.\n",
    "        h = (end-start)/K\n",
    "\n",
    "        reference_element = ReferenceElement(N)\n",
    "        reference_interval = reference_element[0]\n",
    "        M_inv = reference_element[1]*2/h\n",
    "        M_inv_S = reference_element[2]*2/h\n",
    "        \n",
    "        x = get_x_elements(start,end, K, reference_interval)\n",
    "        dx_min = get_dx_min(x)\n",
    "        dt = CF*dx_min\n",
    "        \n",
    "        for i in range(len(x)):\n",
    "                if np.round(x[i][-1],8) == np.round(xp,8):\n",
    "                    k_xp = i\n",
    "                    break\n",
    "                if np.round(x[i][-1],8) == np.round(x_test_point,8):\n",
    "                    k_test_point = i\n",
    "        \n",
    "        t = 0.\n",
    "        t_target = 4.0\n",
    "        nt = int((t_target-t)/dt)\n",
    "        u = analytical_u(x,xp,t)\n",
    "        p = analytical_p(x,xp,t)\n",
    "        q = analytical_q(x,xp,t)\n",
    "        for i in range(nt):\n",
    "            un = u.copy()\n",
    "            pn = p.copy()\n",
    "            qn = q.copy()\n",
    "            u = RK4_Step(dt, du_dt,un,pn,qn,K,N,t,M_inv,M_inv_S,False)\n",
    "            p = RK4_Step(dt, dp_dt,pn,un,qn,K,N,t,M_inv,M_inv_S,True,source_minus_A, source_D_dot,k_xp)#,potential_term)\n",
    "            q = RK4_Step(dt, dq_dt,qn,un,pn,K,N,t,M_inv,M_inv_S,True,source_minus_A, source_D_dot,k_xp)\n",
    "            t += dt\n",
    "        \n",
    "        u_ana = analytical_u(x,xp,t)\n",
    "        error_N_K = error_same_N.append(u[k_test_point][-1]-u_ana[k_test_point][-1])\n",
    "    error.append(error_same_N)"
   ]
  },
  {
   "cell_type": "code",
   "execution_count": 13,
   "metadata": {},
   "outputs": [
    {
     "ename": "IndexError",
     "evalue": "list index out of range",
     "output_type": "error",
     "traceback": [
      "\u001b[1;31m---------------------------------------------------------------------------\u001b[0m",
      "\u001b[1;31mIndexError\u001b[0m                                Traceback (most recent call last)",
      "\u001b[1;32m<ipython-input-13-872242bf993b>\u001b[0m in \u001b[0;36m<module>\u001b[1;34m\u001b[0m\n\u001b[0;32m      1\u001b[0m \u001b[1;32mfor\u001b[0m \u001b[0mi\u001b[0m \u001b[1;32min\u001b[0m \u001b[0mrange\u001b[0m\u001b[1;33m(\u001b[0m\u001b[0mlen\u001b[0m\u001b[1;33m(\u001b[0m\u001b[0mN_range\u001b[0m\u001b[1;33m)\u001b[0m\u001b[1;33m)\u001b[0m\u001b[1;33m:\u001b[0m\u001b[1;33m\u001b[0m\u001b[1;33m\u001b[0m\u001b[0m\n\u001b[1;32m----> 2\u001b[1;33m     \u001b[0mplt\u001b[0m\u001b[1;33m.\u001b[0m\u001b[0mplot\u001b[0m\u001b[1;33m(\u001b[0m\u001b[0mnp\u001b[0m\u001b[1;33m.\u001b[0m\u001b[0mlog10\u001b[0m\u001b[1;33m(\u001b[0m\u001b[0mK_range\u001b[0m\u001b[1;33m)\u001b[0m\u001b[1;33m,\u001b[0m\u001b[0mnp\u001b[0m\u001b[1;33m.\u001b[0m\u001b[0mlog10\u001b[0m\u001b[1;33m(\u001b[0m\u001b[0mnp\u001b[0m\u001b[1;33m.\u001b[0m\u001b[0mabs\u001b[0m\u001b[1;33m(\u001b[0m\u001b[0merror\u001b[0m\u001b[1;33m[\u001b[0m\u001b[0mi\u001b[0m\u001b[1;33m]\u001b[0m\u001b[1;33m)\u001b[0m\u001b[1;33m)\u001b[0m\u001b[1;33m,\u001b[0m \u001b[0mlabel\u001b[0m \u001b[1;33m=\u001b[0m \u001b[1;34m'N = '\u001b[0m\u001b[1;33m+\u001b[0m\u001b[0mstr\u001b[0m\u001b[1;33m(\u001b[0m\u001b[0mN_range\u001b[0m\u001b[1;33m[\u001b[0m\u001b[0mi\u001b[0m\u001b[1;33m]\u001b[0m\u001b[1;33m)\u001b[0m\u001b[1;33m)\u001b[0m\u001b[1;33m\u001b[0m\u001b[1;33m\u001b[0m\u001b[0m\n\u001b[0m\u001b[0;32m      3\u001b[0m     \u001b[0mplt\u001b[0m\u001b[1;33m.\u001b[0m\u001b[0mylabel\u001b[0m\u001b[1;33m(\u001b[0m\u001b[1;34m'Log10 (Abs Error)'\u001b[0m\u001b[1;33m)\u001b[0m\u001b[1;33m\u001b[0m\u001b[1;33m\u001b[0m\u001b[0m\n\u001b[0;32m      4\u001b[0m     \u001b[0mplt\u001b[0m\u001b[1;33m.\u001b[0m\u001b[0mxlabel\u001b[0m\u001b[1;33m(\u001b[0m\u001b[1;34m'Log10 (K)'\u001b[0m\u001b[1;33m)\u001b[0m\u001b[1;33m\u001b[0m\u001b[1;33m\u001b[0m\u001b[0m\n\u001b[0;32m      5\u001b[0m     \u001b[0mplt\u001b[0m\u001b[1;33m.\u001b[0m\u001b[0mlegend\u001b[0m\u001b[1;33m(\u001b[0m\u001b[1;33m)\u001b[0m\u001b[1;33m\u001b[0m\u001b[1;33m\u001b[0m\u001b[0m\n",
      "\u001b[1;31mIndexError\u001b[0m: list index out of range"
     ]
    },
    {
     "data": {
      "image/png": "[encoded data removed]",
      "text/plain": [
       "<Figure size 432x288 with 1 Axes>"
      ]
     },
     "metadata": {
      "needs_background": "light"
     },
     "output_type": "display_data"
    }
   ],
   "source": [
    "for i in range(len(N_range)):\n",
    "    plt.plot(np.log10(K_range),np.log10(np.abs(error[i])), label = 'N = '+str(N_range[i]))\n",
    "    plt.ylabel('Log10 (Abs Error)')\n",
    "    plt.xlabel('Log10 (K)')\n",
    "    plt.legend()\n",
    "    "
   ]
  },
  {
   "cell_type": "code",
   "execution_count": 14,
   "metadata": {},
   "outputs": [
    {
     "data": {
      "text/plain": [
       "[[0.1023891865689397,\n",
       "  0.0266808976376397,\n",
       "  0.016368862930260075,\n",
       "  0.008471600508984767,\n",
       "  0.005512968441315991,\n",
       "  0.0036648894237957252,\n",
       "  0.0027051384168969017,\n",
       "  0.002038188097208238,\n",
       "  0.0016389381640523615,\n",
       "  0.0013276921278669862,\n",
       "  0.0011302310605181276],\n",
       " [-0.0004583169471210624,\n",
       "  -0.00011548619458812137,\n",
       "  0.00059414501312538,\n",
       "  0.00040245431283925104,\n",
       "  0.00041509673052508855,\n",
       "  0.00031967983610270423,\n",
       "  0.0003138005574082614,\n",
       "  0.00025903213503941647,\n",
       "  0.00025159107681194115,\n",
       "  0.00021639816352536645,\n",
       "  0.00020976554501972444],\n",
       " [0.00027170335322512784,\n",
       "  -6.023440066726948e-06,\n",
       "  0.0003097224863580772,\n",
       "  0.00020342556290964264,\n",
       "  0.0002064336604989947,\n",
       "  0.00015829355369856302,\n",
       "  0.0001548263113180237,\n",
       "  0.00012762810196587093,\n",
       "  0.00012383976892027526,\n",
       "  0.00010647107550199042,\n",
       "  0.00010320352501336227],\n",
       " [0.00015122137708589722,\n",
       "  -6.378397594541951e-06,\n",
       "  0.00018283644768724017,\n",
       "  0.00012010633654546687,\n",
       "  0.00012186644745426634,\n",
       "  9.344869949801105e-05,\n",
       "  9.139664778956558e-05,\n",
       "  7.536158169185736e-05,\n",
       "  7.31235555546661e-05,\n",
       "  6.286236717034654e-05,\n",
       "  6.093436830068022e-05],\n",
       " [9.699354876668842e-05,\n",
       "  -5.257255538404504e-06,\n",
       "  0.00012036379927504726,\n",
       "  7.905801016860892e-05,\n",
       "  8.023896775277706e-05,\n",
       "  6.152672892967281e-05,\n",
       "  6.017608606556646e-05,\n",
       "  4.961738671638294e-05,\n",
       "  4.8142731048028686e-05,\n",
       "  4.1391198561391285e-05,\n",
       "  4.011764301725673e-05]]"
      ]
     },
     "execution_count": 14,
     "metadata": {},
     "output_type": "execute_result"
    }
   ],
   "source": [
    "error"
   ]
  },
  {
   "cell_type": "code",
   "execution_count": null,
   "metadata": {},
   "outputs": [],
   "source": []
  }
 ],
 "metadata": {
  "kernelspec": {
   "display_name": "Python 3",
   "language": "python",
   "name": "python3"
  },
  "language_info": {
   "codemirror_mode": {
    "name": "ipython",
    "version": 3
   },
   "file_extension": ".py",
   "mimetype": "text/x-python",
   "name": "python",
   "nbconvert_exporter": "python",
   "pygments_lexer": "ipython3",
   "version": "3.7.1"
  }
 },
 "nbformat": 4,
 "nbformat_minor": 2
}

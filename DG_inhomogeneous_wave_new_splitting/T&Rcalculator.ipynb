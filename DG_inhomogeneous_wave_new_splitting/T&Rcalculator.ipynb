{
 "cells": [
  {
   "cell_type": "code",
   "execution_count": 2,
   "metadata": {},
   "outputs": [],
   "source": [
    "from scipy.integrate import odeint\n",
    "import numpy as np\n",
    "import matplotlib.pyplot as plt"
   ]
  },
  {
   "cell_type": "code",
   "execution_count": null,
   "metadata": {},
   "outputs": [],
   "source": [
    "def main():\n",
    "    w = eval(input(\"Value for omega:\"))\n",
    "    width = 1\n",
    "    h = 1\n",
    "    try:\n",
    "        h = eval(input(\"Value for potential height:\"))\n",
    "    except:\n",
    "        if h == None:\n",
    "            h = 1\n",
    "    try:\n",
    "        width = eval(input('Value for potential width:'))\n",
    "    except:\n",
    "        if width == None:\n",
    "            width == 1\n",
    "    l=2\n",
    "    def dU_dx(U,x):\n",
    "        return[U[1],((1-2/x)*(6/x**2+2/x**3)-w**2)*U[0]]\n",
    "    start = -20\n",
    "    end =200\n",
    "    U0 = [np.exp(-1j*w*start),-1j*w*np.exp(-1j*w*start)]\n",
    "    xs = np.linspace(start,end,(abs(start)+abs(end))*20+1) \n",
    "    Us = odeint(dU_dx, U0, xs)#solve the ODE\n",
    "    ys = Us[:,0] #real part of phi\n",
    "    ysd = Us[:,1]\n",
    "    U1 = [] #imaginary part only\n",
    "    for i in U0:\n",
    "        U1.append(i.imag)\n",
    "    Us1 = odeint(dU_dx, U1,xs)\n",
    "    ys1 = Us1[:,0] #imaginary part of phi\n",
    "    ys1d = Us1[:,1] #imaginary part of psi\n",
    "    phi = ys +1j*ys1 #combine real & imaginary parts\n",
    "    psi = ysd + 1j*ys1d\n",
    "    B = []\n",
    "    for i in range(len(xs)):\n",
    "        B.append((1j*w*phi[i]+psi[i])*np.exp(-1j*w*xs[i])/(2*1j*w)) #Derived page 9 RW Summary\n",
    "    A = []\n",
    "    for i in range  (len(xs)):\n",
    "        A.append((1j*w*phi[i]-psi[i])*np.exp(1j*w*xs[i])/(2*1j*w))\n",
    "    R = [] # R = B/A \n",
    "    for i in range(len(A)):\n",
    "        R.append(B[i]/A[i])\n",
    "    RR = [] # Reflected Coefficients\n",
    "    for i in R:\n",
    "        RR.append(((i.real)**2+(i.imag)**2))\n",
    "    def plus(xs):\n",
    "        if start<end:\n",
    "            return False\n",
    "        else:\n",
    "            return True\n",
    "    Rco = sum(RR)/len(RR)*2\n",
    "    print(\"Reflected coefficient is\",Rco)\n",
    "    C = [1]*len(A) \n",
    "    T = [] #T = C/A\n",
    "    for i in range(len(A)):\n",
    "        T.append(C[i]/A[i])\n",
    "    TT = [] #Transmitted coefficients\n",
    "    for i in range(len(T)):\n",
    "        TT.append(((T[i].real)**2+(T[i].imag)**2))\n",
    "    Tco = sum(TT)/len(TT)*2-1\n",
    "    print('Transmitted coefficient is',Tco)\n",
    "    print('Sum of T and R is', Tco+Rco)"
   ]
  },
  {
   "cell_type": "code",
   "execution_count": null,
   "metadata": {},
   "outputs": [],
   "source": [
    "main()"
   ]
  },
  {
   "cell_type": "code",
   "execution_count": 11,
   "metadata": {},
   "outputs": [
    {
     "name": "stdout",
     "output_type": "stream",
     "text": [
      "Value for omega:0.5\n",
      "Value for potential height:\n",
      "Value for potential width:\n",
      "Reflected coefficient is 0.8785250427052708\n",
      "Transmitted coefficient is 0.12147406167523234\n",
      "Sum of T and R is 0.9999991043805031\n"
     ]
    },
    {
     "name": "stderr",
     "output_type": "stream",
     "text": [
      "C:\\ProgramData\\Anaconda3\\lib\\site-packages\\scipy\\integrate\\odepack.py:215: ComplexWarning: Casting complex values to real discards the imaginary part\n",
      "  ixpr, mxstep, mxhnil, mxordn, mxords)\n"
     ]
    }
   ],
   "source": [
    "main()"
   ]
  },
  {
   "cell_type": "code",
   "execution_count": 12,
   "metadata": {},
   "outputs": [
    {
     "name": "stdout",
     "output_type": "stream",
     "text": [
      "Value for omega:0.5\n",
      "Value for potential height:2\n",
      "Value for potential width:\n",
      "Reflected coefficient is 0.9932139339125076\n",
      "Transmitted coefficient is 0.006785534665439075\n",
      "Sum of T and R is 0.9999994685779466\n"
     ]
    },
    {
     "name": "stderr",
     "output_type": "stream",
     "text": [
      "C:\\ProgramData\\Anaconda3\\lib\\site-packages\\scipy\\integrate\\odepack.py:215: ComplexWarning: Casting complex values to real discards the imaginary part\n",
      "  ixpr, mxstep, mxhnil, mxordn, mxords)\n"
     ]
    }
   ],
   "source": [
    "main()"
   ]
  },
  {
   "cell_type": "code",
   "execution_count": null,
   "metadata": {},
   "outputs": [],
   "source": []
  }
 ],
 "metadata": {
  "kernelspec": {
   "display_name": "Python 3",
   "language": "python",
   "name": "python3"
  },
  "language_info": {
   "codemirror_mode": {
    "name": "ipython",
    "version": 3
   },
   "file_extension": ".py",
   "mimetype": "text/x-python",
   "name": "python",
   "nbconvert_exporter": "python",
   "pygments_lexer": "ipython3",
   "version": "3.7.1"
  }
 },
 "nbformat": 4,
 "nbformat_minor": 2
}

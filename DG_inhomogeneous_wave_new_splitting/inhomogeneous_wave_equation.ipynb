{
 "cells": [
  {
   "cell_type": "code",
   "execution_count": 102,
   "metadata": {},
   "outputs": [],
   "source": [
    "import numpy as np\n",
    "from matplotlib import pyplot as plt\n",
    "from ReferenceElement import *\n",
    "import os\n",
    "import imageio\n",
    "from rewrite import *\n",
    "%matplotlib inline\n",
    "from matplotlib.lines import Line2D"
   ]
  },
  {
   "cell_type": "code",
   "execution_count": 103,
   "metadata": {},
   "outputs": [],
   "source": [
    "def analytical_u(x,xp,t):\n",
    "    for i in range(len(x)):\n",
    "        if np.round(x[i][-1],6) == np.round(xp,6):\n",
    "            k = i\n",
    "            pass\n",
    "    u_left  = [np.cos(x[i]+t) for i in range(k+1)]\n",
    "    u_right = [np.sin(x[i]-t) for i in range(k+1,len(x))]\n",
    "    u = np.array(u_left+u_right)\n",
    "    return u\n",
    "        \n",
    "def analytical_p(x,xp,t):\n",
    "    for i in range(len(x)):\n",
    "        if np.round(x[i][-1],6) == np.round(xp,6):\n",
    "            k = i\n",
    "            break\n",
    "    p_left  = [-np.sin(x[i]+t) for i in range(k+1)]\n",
    "    p_right = [-np.cos(x[i]-t) for i in range(k+1,len(x))]\n",
    "    p = np.array(p_left+p_right)\n",
    "    return p\n",
    "    \n",
    "def analytical_q(x,xp,t):\n",
    "    for i in range(len(x)):\n",
    "        if np.round(x[i][-1],6) == np.round(xp,6):\n",
    "            k = i\n",
    "            break\n",
    "    q_left  = [-np.sin(x[i]+t) for i in range(k+1)]\n",
    "    q_right = [np.cos(x[i]-t) for i in range(k+1,len(x))]\n",
    "    q = np.array(q_left+q_right)\n",
    "    return q\n",
    "\n",
    "\n",
    "N = 8\n",
    "K = 16\n",
    "CF = 2.**(-7)\n",
    "start = -2.*np.pi\n",
    "end = 2.*np.pi\n",
    "a1 = 1.\n",
    "a2 = -1.\n",
    "alpha = 0.\n",
    "h = (end-start)/K\n",
    "t = 0.\n",
    "\n",
    "reference_element = ReferenceElement(N)\n",
    "reference_interval = reference_element[0]\n",
    "M_inv = reference_element[1]*2/h\n",
    "M_inv_S = reference_element[2]*2/h"
   ]
  },
  {
   "cell_type": "code",
   "execution_count": 104,
   "metadata": {},
   "outputs": [
    {
     "name": "stdout",
     "output_type": "stream",
     "text": [
      "0.00030753861835592505\n"
     ]
    }
   ],
   "source": [
    "x = get_x_elements(start,end, K, reference_interval)\n",
    "dx_min = get_dx_min(x)\n",
    "dt = CF*dx_min\n",
    "print(dt)"
   ]
  },
  {
   "cell_type": "code",
   "execution_count": 105,
   "metadata": {},
   "outputs": [
    {
     "data": {
      "image/png": "[encoded data removed]",
      "text/plain": [
       "<Figure size 432x288 with 1 Axes>"
      ]
     },
     "metadata": {
      "needs_background": "light"
     },
     "output_type": "display_data"
    }
   ],
   "source": [
    "def potential(x,sigma,x0):\n",
    "    return 1/np.sqrt(2*np.pi*sigma**2)*np.exp(-(x-x0)**2/(2*sigma**2))\n",
    "#     return 0*x\n",
    "sigma = 0.2\n",
    "x0 = -np.pi/2\n",
    "potential_term = potential(x,sigma,x0)\n",
    "for i in range(len(x)):\n",
    "    plt.plot(x[i],potential_term[i])\n"
   ]
  },
  {
   "cell_type": "code",
   "execution_count": 106,
   "metadata": {},
   "outputs": [
    {
     "data": {
      "text/plain": [
       "3.141592653589793"
      ]
     },
     "execution_count": 106,
     "metadata": {},
     "output_type": "execute_result"
    }
   ],
   "source": [
    "np.pi"
   ]
  },
  {
   "cell_type": "code",
   "execution_count": 107,
   "metadata": {},
   "outputs": [
    {
     "name": "stdout",
     "output_type": "stream",
     "text": [
      "11\n"
     ]
    },
    {
     "data": {
      "image/png": "[encoded data removed]",
      "text/plain": [
       "<Figure size 432x288 with 1 Axes>"
      ]
     },
     "metadata": {
      "needs_background": "light"
     },
     "output_type": "display_data"
    }
   ],
   "source": [
    "xp = np.pi\n",
    "for i in range(len(x)):\n",
    "        if np.round(x[i][-1],6) == np.round(xp,6):\n",
    "            k_xp = i\n",
    "            break\n",
    "print(i)\n",
    "def source_minus_A(t):\n",
    "    return -np.cos(xp-t) - np.sin(xp+t)\n",
    "def source_D_dot(t):\n",
    "    return  np.cos(xp-t) - np.sin(xp+t)\n",
    "u = analytical_u(x, np.pi,0)\n",
    "for i in range(len(u)):\n",
    "    plt.plot(x[i],u[i])"
   ]
  },
  {
   "cell_type": "code",
   "execution_count": 108,
   "metadata": {},
   "outputs": [
    {
     "name": "stdout",
     "output_type": "stream",
     "text": [
      "162581\n"
     ]
    }
   ],
   "source": [
    "t = 0.\n",
    "t_target = 50\n",
    "nt = int((t_target-t)/dt)\n",
    "u = analytical_u(x,xp,t)\n",
    "p = analytical_p(x,xp,t)\n",
    "q = analytical_q(x,xp,t)\n",
    "q = x*0\n",
    "p = x*0\n",
    "u = x*0\n",
    "print (nt)\n"
   ]
  },
  {
   "cell_type": "code",
   "execution_count": 109,
   "metadata": {},
   "outputs": [],
   "source": [
    "# plt.plot(x.flatten(), u.flatten(), label = 'u')\n",
    "# plt.plot(x.flatten(), p.flatten(), label = 'p')\n",
    "# plt.plot(x.flatten(), q.flatten(), label = 'q')\n",
    "# plt.legend()\n",
    "#plt.ylim(-1.5,1.5)"
   ]
  },
  {
   "cell_type": "code",
   "execution_count": 110,
   "metadata": {},
   "outputs": [],
   "source": [
    "direc = \"result_potential_trivial_initial\"\n",
    "if os.path.isdir(direc):\n",
    "    print('Directory'+direc+'already exists')\n",
    "else:\n",
    "    os.makedirs(direc)\n",
    "images = []"
   ]
  },
  {
   "cell_type": "code",
   "execution_count": 111,
   "metadata": {},
   "outputs": [],
   "source": [
    "t_int = [0]\n",
    "u_jump =[u[k_xp+1][0]-u[k_xp][-1]]\n",
    "p_jump =[p[k_xp+1][0]-p[k_xp][-1]]\n",
    "q_jump =[q[k_xp+1][0]-q[k_xp][-1]]\n",
    "for i in range(nt):\n",
    "    un = u.copy()\n",
    "    pn = p.copy()\n",
    "    qn = q.copy()\n",
    "    u = RK4_Step(dt, du_dt,un,pn,qn,K,N,t,M_inv,M_inv_S,False)\n",
    "    p = RK4_Step(dt, dp_dt,pn,un,qn,K,N,t,M_inv,M_inv_S,True,source_minus_A, source_D_dot,k_xp,potential_term)\n",
    "    q = RK4_Step(dt, dq_dt,qn,un,pn,K,N,t,M_inv,M_inv_S,True,source_minus_A, source_D_dot,k_xp)\n",
    "    t += dt\n",
    "    if i% int(nt/200) ==0:\n",
    "        t_int.append(t) \n",
    "        u_jump.append(u[k_xp+1][0]-u[k_xp][-1])\n",
    "        p_jump.append(p[k_xp+1][0]-p[k_xp][-1])\n",
    "        q_jump.append(q[k_xp+1][0]-q[k_xp][-1])\n",
    "        plt.figure(figsize=(8,6), dpi=500)\n",
    "        u_ana = analytical_u(x,xp,t)\n",
    "        for i in range(len(u_ana)):\n",
    "#             plt.plot(x[i],u_ana[i],linestyle = '--', color = 'black')\n",
    "            plt.plot(x[i],potential_term[i],linestyle = '--', color = 'black')\n",
    "            plt.plot(x[i],u[i])\n",
    "        plt.title('u at t = '+str(np.round(t,3)))\n",
    "        plt.xlabel('r')\n",
    "        plt.ylim(-2,2)\n",
    "        lines = Line2D([0], [0], color = \"black\",linewidth =2, linestyle='--',label = 'V(r)')\n",
    "        plt.legend(handles= [lines])\n",
    "        name = direc+\"/figure\"+str(np.round(t,3))+'.png'\n",
    "        plt.savefig(name)\n",
    "        images.append(imageio.imread(name))\n",
    "        plt.close()\n",
    "gifName = direc+'/movie.gif'\n",
    "imageio.mimsave(gifName,images)"
   ]
  },
  {
   "cell_type": "code",
   "execution_count": 112,
   "metadata": {},
   "outputs": [
    {
     "name": "stderr",
     "output_type": "stream",
     "text": [
      "No handles with labels found to put in legend.\n"
     ]
    },
    {
     "name": "stdout",
     "output_type": "stream",
     "text": [
      "49.99993611099888\n"
     ]
    },
    {
     "data": {
      "text/plain": [
       "<matplotlib.legend.Legend at 0x1acce594c88>"
      ]
     },
     "execution_count": 112,
     "metadata": {},
     "output_type": "execute_result"
    },
    {
     "data": {
      "image/png": "[encoded data removed]",
      "text/plain": [
       "<Figure size 432x288 with 1 Axes>"
      ]
     },
     "metadata": {
      "needs_background": "light"
     },
     "output_type": "display_data"
    }
   ],
   "source": [
    "print(t)\n",
    "u_ana = analytical_u(x,xp,t)\n",
    "for i in range(len(u_ana)):\n",
    "    plt.plot(x[i],u_ana[i],linestyle = '--', color = 'black')\n",
    "    plt.plot(x[i],u[i])\n",
    "    plt.plot(x[i],potential_term[i],linestyle = '--', color = 'red')\n",
    "plt.title('u at t = '+str(np.round(t,3)))\n",
    "plt.xlabel('x')\n",
    "plt.legend()\n"
   ]
  },
  {
   "cell_type": "code",
   "execution_count": 113,
   "metadata": {},
   "outputs": [],
   "source": [
    "# for i in range(len(x)):\n",
    "#     plt.plot(x[i], (u/u_ana)[i])\n",
    "# plt.ylim(-5,5)"
   ]
  },
  {
   "cell_type": "code",
   "execution_count": 98,
   "metadata": {},
   "outputs": [],
   "source": [
    "# plt.plot(x.flatten(),np.log10(u-u_ana).flatten())"
   ]
  },
  {
   "cell_type": "code",
   "execution_count": 99,
   "metadata": {},
   "outputs": [],
   "source": [
    "# p_ana = analytical_p(x,xp,t)\n",
    "# for i in range(len(p_ana)):\n",
    "#     plt.plot(x[i],p_ana[i],linestyle = '--', color = 'black')\n",
    "#     plt.plot(x[i],p[i])\n",
    "# plt.title('p at t = '+str(np.round(t,3)))\n",
    "# plt.xlabel('x')\n"
   ]
  },
  {
   "cell_type": "code",
   "execution_count": 100,
   "metadata": {},
   "outputs": [],
   "source": [
    "# q_ana = analytical_q(x,xp,t)\n",
    "# for i in range(len(q_ana)):\n",
    "#     plt.plot(x[i],q_ana[i],linestyle = '--', color = 'black')\n",
    "#     plt.plot(x[i],q[i])\n",
    "# plt.title('q at t = '+str(np.round(t,3)))\n",
    "# plt.xlabel('x')"
   ]
  },
  {
   "cell_type": "code",
   "execution_count": 101,
   "metadata": {},
   "outputs": [
    {
     "ename": "NameError",
     "evalue": "name 'ana_u_jump' is not defined",
     "output_type": "error",
     "traceback": [
      "\u001b[1;31m---------------------------------------------------------------------------\u001b[0m",
      "\u001b[1;31mNameError\u001b[0m                                 Traceback (most recent call last)",
      "\u001b[1;32m<ipython-input-101-b4110149cb09>\u001b[0m in \u001b[0;36m<module>\u001b[1;34m\u001b[0m\n\u001b[0;32m      4\u001b[0m \u001b[0mt_int\u001b[0m \u001b[1;33m=\u001b[0m \u001b[0mnp\u001b[0m\u001b[1;33m.\u001b[0m\u001b[0marray\u001b[0m\u001b[1;33m(\u001b[0m\u001b[0mt_int\u001b[0m\u001b[1;33m)\u001b[0m\u001b[1;33m\u001b[0m\u001b[1;33m\u001b[0m\u001b[0m\n\u001b[0;32m      5\u001b[0m \u001b[0mplt\u001b[0m\u001b[1;33m.\u001b[0m\u001b[0mplot\u001b[0m\u001b[1;33m(\u001b[0m\u001b[0mt_int\u001b[0m\u001b[1;33m,\u001b[0m\u001b[0mu_jump\u001b[0m\u001b[1;33m)\u001b[0m\u001b[1;33m\u001b[0m\u001b[1;33m\u001b[0m\u001b[0m\n\u001b[1;32m----> 6\u001b[1;33m \u001b[0mplt\u001b[0m\u001b[1;33m.\u001b[0m\u001b[0mplot\u001b[0m\u001b[1;33m(\u001b[0m\u001b[0mt_int\u001b[0m\u001b[1;33m,\u001b[0m\u001b[0mana_u_jump\u001b[0m\u001b[1;33m,\u001b[0m \u001b[0mlinestyle\u001b[0m \u001b[1;33m=\u001b[0m \u001b[1;34m'--'\u001b[0m\u001b[1;33m)\u001b[0m\u001b[1;33m\u001b[0m\u001b[1;33m\u001b[0m\u001b[0m\n\u001b[0m",
      "\u001b[1;31mNameError\u001b[0m: name 'ana_u_jump' is not defined"
     ]
    },
    {
     "data": {
      "image/png": "[encoded data removed]",
      "text/plain": [
       "<Figure size 432x288 with 1 Axes>"
      ]
     },
     "metadata": {
      "needs_background": "light"
     },
     "output_type": "display_data"
    }
   ],
   "source": [
    "def analytical_u_jump(xp,t):\n",
    "    return np.sin(xp-t) - np.cos(xp-t)\n",
    "u_jump = np.array(u_jump)\n",
    "t_int = np.array(t_int)\n",
    "plt.plot(t_int,u_jump)\n",
    "plt.plot(t_int,ana_u_jump, linestyle = '--')"
   ]
  },
  {
   "cell_type": "code",
   "execution_count": null,
   "metadata": {},
   "outputs": [],
   "source": [
    "\n",
    "ana_u_jump = analytical_u_jump(xp,t_int)\n",
    "plt.plot(t_int, np.log10(np.abs((u_jump-ana_u_jump)/ana_u_jump)))"
   ]
  },
  {
   "cell_type": "code",
   "execution_count": null,
   "metadata": {},
   "outputs": [],
   "source": [
    "plt.plot(t_int,p_jump)\n",
    "def analytical_p_jump(xp,t):\n",
    "    return -np.cos(xp-t) + np.sin(xp+t)\n",
    "ana_p_jump = analytical_p_jump(xp,t_int)\n",
    "plt.plot(t_int, ana_p_jump, linestyle = '--')"
   ]
  },
  {
   "cell_type": "code",
   "execution_count": null,
   "metadata": {},
   "outputs": [],
   "source": [
    "plt.plot(t_int, np.log10(np.abs((p_jump-ana_p_jump)/ana_p_jump)))"
   ]
  },
  {
   "cell_type": "code",
   "execution_count": null,
   "metadata": {},
   "outputs": [],
   "source": [
    "plt.plot(t_int,q_jump)\n",
    "def analytical_q_jump(xp,t):\n",
    "    return np.cos(xp-t) + np.sin(xp+t)\n",
    "ana_q_jump = analytical_q_jump(xp,t_int)\n",
    "plt.plot(t_int, ana_q_jump, linestyle = '--')"
   ]
  },
  {
   "cell_type": "code",
   "execution_count": null,
   "metadata": {},
   "outputs": [],
   "source": [
    "plt.plot(t_int, np.log10(np.abs((q_jump-ana_q_jump)/ana_q_jump)))"
   ]
  },
  {
   "cell_type": "code",
   "execution_count": null,
   "metadata": {},
   "outputs": [],
   "source": []
  },
  {
   "cell_type": "code",
   "execution_count": null,
   "metadata": {},
   "outputs": [],
   "source": []
  }
 ],
 "metadata": {
  "kernelspec": {
   "display_name": "Python 3",
   "language": "python",
   "name": "python3"
  },
  "language_info": {
   "codemirror_mode": {
    "name": "ipython",
    "version": 3
   },
   "file_extension": ".py",
   "mimetype": "text/x-python",
   "name": "python",
   "nbconvert_exporter": "python",
   "pygments_lexer": "ipython3",
   "version": "3.7.1"
  }
 },
 "nbformat": 4,
 "nbformat_minor": 2
}
